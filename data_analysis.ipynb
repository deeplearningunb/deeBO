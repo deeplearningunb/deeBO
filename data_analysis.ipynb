{
 "cells": [
  {
   "cell_type": "markdown",
   "metadata": {},
   "source": [
    "## Importando bibliotecas"
   ]
  },
  {
   "cell_type": "code",
   "execution_count": 40,
   "metadata": {},
   "outputs": [],
   "source": [
    "import matplotlib.pyplot as plt\n",
    "import numpy as np\n",
    "import pandas as pd"
   ]
  },
  {
   "cell_type": "markdown",
   "metadata": {},
   "source": [
    "## Lendo dataset"
   ]
  },
  {
   "cell_type": "code",
   "execution_count": null,
   "metadata": {},
   "outputs": [],
   "source": [
    "dataset = pd.read_csv('./crime-data-in-brazil/BO_2016.csv', low_memory=False)\n",
    "dataset.head()"
   ]
  },
  {
   "cell_type": "code",
   "execution_count": 42,
   "metadata": {},
   "outputs": [
    {
     "name": "stdout",
     "output_type": "stream",
     "text": [
      "NUM_BO                    774662\n",
      "ANO_BO                    774662\n",
      "ID_DELEGACIA              774662\n",
      "NOME_DEPARTAMENTO         774662\n",
      "NOME_SECCIONAL            774662\n",
      "DELEGACIA                 774662\n",
      "NOME_DEPARTAMENTO_CIRC    774662\n",
      "NOME_SECCIONAL_CIRC       774662\n",
      "NOME_DELEGACIA_CIRC       774662\n",
      "ANO                       774662\n",
      "MES                       774662\n",
      "FLAG_STATUS               774662\n",
      "RUBRICA                   774662\n",
      "DESDOBRAMENTO              30092\n",
      "CONDUTA                   658523\n",
      "LATITUDE                  731960\n",
      "LONGITUDE                 731959\n",
      "CIDADE                    774662\n",
      "LOGRADOURO                774660\n",
      "NUMERO_LOGRADOURO         774337\n",
      "FLAG_STATUS.1             774662\n",
      "Unnamed: 21                   24\n",
      "dtype: int64\n",
      "\n",
      "3.88% de dados válidos\n"
     ]
    }
   ],
   "source": [
    "print(dataset.count())\n",
    "\n",
    "dados_validos_desdobramento = dataset['DESDOBRAMENTO'].count()/dataset['NUM_BO'].count()\n",
    "print( '\\n%.2f%% de dados válidos' % (dados_validos_desdobramento*100) )"
   ]
  },
  {
   "cell_type": "code",
   "execution_count": 65,
   "metadata": {},
   "outputs": [
    {
     "name": "stdout",
     "output_type": "stream",
     "text": [
      "TRANSEUNTE                      241358\n",
      "VEICULO                         141668\n",
      "NaN                             116139\n",
      "OUTROS                           80976\n",
      "INTERIOR TRANSPORTE COLETIVO     47025\n",
      "INTERIOR DE VEICULO              46668\n",
      "INTERIOR ESTABELECIMENTO         33176\n",
      "RESIDENCIA                       25809\n",
      "ESTABELECIMENTO COMERCIAL        19737\n",
      "CARGA                             9847\n",
      "ESTABELECIMENTO-OUTROS            4017\n",
      "ESTABELECIMENTO ENSINO            2765\n",
      "ESTABELECIMENTO BANCARIO          1929\n",
      "COLETIVO                          1467\n",
      "Saidinha de Banco                  874\n",
      "CONDOMINIO RESIDENCIAL             761\n",
      "Caixa Eletrônico                   324\n",
      "CONDOMINIO COMERCIAL               107\n",
      "JOALHERIA                           15\n",
      "Name: CONDUTA, dtype: int64\n",
      "\n",
      "\n",
      "Roubo (art. 157)                                                             316548\n",
      "Furto (art. 155)                                                             287524\n",
      "Furto qualificado (art. 155, §4o.)                                            48570\n",
      "Lesão corporal (art. 129)                                                     43719\n",
      "Lesão corporal culposa na direção de veículo automotor (Art. 303)             29138\n",
      "Lesão corporal (art 129 § 9º)                                                 13370\n",
      "Drogas sem autorização ou em desacordo (Art.33, caput)                        11013\n",
      "A.I.-Drogas sem autorização ou em desacordo (Art.33, caput)                    4574\n",
      "A.I.-Roubo (art. 157)                                                          3873\n",
      "Homicídio simples (art. 121)                                                   3429\n",
      "A.I.-Lesão corporal (art. 129)                                                 2794\n",
      "Estupro de vulneravel (art.217-A)                                              2506\n",
      "Estupro (art.213)                                                              1411\n",
      "Lesão corporal culposa (art. 129. §6o.)                                        1289\n",
      "A.I.-Furto (art. 155)                                                          1184\n",
      "Homicídio culposo na direção de veículo automotor (Art. 302)                    923\n",
      "A.I.-Furto qualificado (art. 155, §4o.)                                         749\n",
      "Homicídio qualificado (art. 121, §2o.)                                          706\n",
      "A.I.-Estupro de vulneravel (art.217-A)                                          374\n",
      "A.I.-Lesão corporal culposa na direção de veículo automotor (Art. 303)          224\n",
      "Lesão corporal de natureza GRAVE (art. 129, §1o.)                               157\n",
      "A.I.-Lesão corporal (art 129 § 9º)                                              123\n",
      "Oferecer droga a pessoa de seu relacionamento (Art.33,§3º)                       86\n",
      "Furto de coisa comum (art. 156)                                                  74\n",
      "A.I.-Homicídio simples (art. 121)                                                65\n",
      "Homicídio culposo (art. 121, §3o.)                                               50\n",
      "A.I.-Tráfico de entorpecente (Art. 12)                                           37\n",
      "A.I.-Lesão corporal culposa (art. 129. §6o.)                                     31\n",
      "A.I.-Oferecer droga a pessoa de seu relacionamento (Art.33,§3º)                  30\n",
      "A.I.-Homicídio qualificado (art. 121, §2o.)                                      21\n",
      "Lesão corporal  de natureza 'GRAVÍSSIMA' (art. 129, §2o.)                        19\n",
      "A.I.-Porte de entorpecente (Art. 16)                                             16\n",
      "Lesão corporal seguida de morte (art. 129, §3o.)                                 13\n",
      "Induzir, instigar ou auxiliar alguém ao uso indevido de droga(Art.33,§2º)         8\n",
      "A.I.-Lesão corporal de natureza GRAVE (art. 129, §1o.)                            7\n",
      "A.I.-Homicídio culposo na direção de veículo automotor (Art. 302)                 4\n",
      "A.I.-Lesão corporal  de natureza 'GRAVÍSSIMA' (art. 129, §2o.)                    1\n",
      "A.I.-Furto de coisa comum (art. 156)                                              1\n",
      "A.I.-Homicídio culposo (art. 121, §3o.)                                           1\n",
      "Name: RUBRICA, dtype: int64\n"
     ]
    }
   ],
   "source": [
    "print(dataset['CONDUTA'].value_counts(dropna=False))\n",
    "print(\"\\n\")\n",
    "print(dataset['RUBRICA'].value_counts(dropna=False))"
   ]
  },
  {
   "cell_type": "markdown",
   "metadata": {},
   "source": [
    "DESDOBRAMENTO possui uma quantidade muito pequena de dados válidos comparados ao dataset completo\n"
   ]
  },
  {
   "cell_type": "markdown",
   "metadata": {},
   "source": [
    "## Selecionando colunas de interesse"
   ]
  },
  {
   "cell_type": "code",
   "execution_count": 71,
   "metadata": {},
   "outputs": [
    {
     "data": {
      "text/html": [
       "<div>\n",
       "<style scoped>\n",
       "    .dataframe tbody tr th:only-of-type {\n",
       "        vertical-align: middle;\n",
       "    }\n",
       "\n",
       "    .dataframe tbody tr th {\n",
       "        vertical-align: top;\n",
       "    }\n",
       "\n",
       "    .dataframe thead th {\n",
       "        text-align: right;\n",
       "    }\n",
       "</style>\n",
       "<table border=\"1\" class=\"dataframe\">\n",
       "  <thead>\n",
       "    <tr style=\"text-align: right;\">\n",
       "      <th></th>\n",
       "      <th>ANO</th>\n",
       "      <th>MES</th>\n",
       "      <th>RUBRICA</th>\n",
       "      <th>LATITUDE</th>\n",
       "      <th>LONGITUDE</th>\n",
       "    </tr>\n",
       "  </thead>\n",
       "  <tbody>\n",
       "    <tr>\n",
       "      <th>0</th>\n",
       "      <td>2016</td>\n",
       "      <td>7</td>\n",
       "      <td>Furto (art. 155)</td>\n",
       "      <td>-23.564984</td>\n",
       "      <td>-46.652035</td>\n",
       "    </tr>\n",
       "    <tr>\n",
       "      <th>1</th>\n",
       "      <td>2016</td>\n",
       "      <td>5</td>\n",
       "      <td>Roubo (art. 157)</td>\n",
       "      <td>-23.542476</td>\n",
       "      <td>-46.641928</td>\n",
       "    </tr>\n",
       "    <tr>\n",
       "      <th>2</th>\n",
       "      <td>2016</td>\n",
       "      <td>10</td>\n",
       "      <td>Drogas sem autorização ou em desacordo (Art.33...</td>\n",
       "      <td>-23.542183</td>\n",
       "      <td>-46.640599</td>\n",
       "    </tr>\n",
       "    <tr>\n",
       "      <th>3</th>\n",
       "      <td>2016</td>\n",
       "      <td>3</td>\n",
       "      <td>Roubo (art. 157)</td>\n",
       "      <td>-23.609275</td>\n",
       "      <td>-46.455087</td>\n",
       "    </tr>\n",
       "    <tr>\n",
       "      <th>4</th>\n",
       "      <td>2016</td>\n",
       "      <td>12</td>\n",
       "      <td>Lesão corporal (art. 129)</td>\n",
       "      <td>-23.573928</td>\n",
       "      <td>-46.620693</td>\n",
       "    </tr>\n",
       "  </tbody>\n",
       "</table>\n",
       "</div>"
      ],
      "text/plain": [
       "    ANO  MES                                            RUBRICA   LATITUDE  \\\n",
       "0  2016    7                                   Furto (art. 155) -23.564984   \n",
       "1  2016    5                                   Roubo (art. 157) -23.542476   \n",
       "2  2016   10  Drogas sem autorização ou em desacordo (Art.33... -23.542183   \n",
       "3  2016    3                                   Roubo (art. 157) -23.609275   \n",
       "4  2016   12                          Lesão corporal (art. 129) -23.573928   \n",
       "\n",
       "   LONGITUDE  \n",
       "0 -46.652035  \n",
       "1 -46.641928  \n",
       "2 -46.640599  \n",
       "3 -46.455087  \n",
       "4 -46.620693  "
      ]
     },
     "execution_count": 71,
     "metadata": {},
     "output_type": "execute_result"
    }
   ],
   "source": [
    "df = dataset[['ANO','MES', 'RUBRICA', 'LATITUDE', 'LONGITUDE']]\n",
    "df.head()"
   ]
  },
  {
   "cell_type": "markdown",
   "metadata": {},
   "source": [
    "## Checando valores NaN"
   ]
  },
  {
   "cell_type": "code",
   "execution_count": 72,
   "metadata": {},
   "outputs": [],
   "source": [
    "# print(df.isna().sum())\n",
    "# taxa_nan = (df['CONDUTA'].isna().sum() / df['CONDUTA'].count())*100\n",
    "# print('Nan %.2f%%' % taxa_nan )"
   ]
  },
  {
   "cell_type": "code",
   "execution_count": 73,
   "metadata": {},
   "outputs": [
    {
     "name": "stderr",
     "output_type": "stream",
     "text": [
      "/usr/local/lib/python3.5/site-packages/ipykernel_launcher.py:1: SettingWithCopyWarning: \n",
      "A value is trying to be set on a copy of a slice from a DataFrame\n",
      "\n",
      "See the caveats in the documentation: http://pandas.pydata.org/pandas-docs/stable/indexing.html#indexing-view-versus-copy\n",
      "  \"\"\"Entry point for launching an IPython kernel.\n"
     ]
    },
    {
     "name": "stdout",
     "output_type": "stream",
     "text": [
      "NaN removed\n"
     ]
    },
    {
     "data": {
      "text/plain": [
       "ANO          731959\n",
       "MES          731959\n",
       "RUBRICA      731959\n",
       "LATITUDE     731959\n",
       "LONGITUDE    731959\n",
       "dtype: int64"
      ]
     },
     "execution_count": 73,
     "metadata": {},
     "output_type": "execute_result"
    }
   ],
   "source": [
    "df.dropna(how='any',inplace=True)\n",
    "print('NaN removed')\n",
    "df.isna().sum()\n",
    "\n",
    "df.count()"
   ]
  },
  {
   "cell_type": "markdown",
   "metadata": {},
   "source": [
    "## Analisando as categorias de conduta"
   ]
  },
  {
   "cell_type": "code",
   "execution_count": 74,
   "metadata": {},
   "outputs": [],
   "source": [
    "# df['CONDUTA'].value_counts()"
   ]
  },
  {
   "cell_type": "markdown",
   "metadata": {},
   "source": [
    "## Analisando as categorias de Rubrica (CRIME)"
   ]
  },
  {
   "cell_type": "code",
   "execution_count": 75,
   "metadata": {},
   "outputs": [
    {
     "data": {
      "text/plain": [
       "Roubo (art. 157)                                                             301586\n",
       "Furto (art. 155)                                                             277888\n",
       "Furto qualificado (art. 155, §4o.)                                            45654\n",
       "Lesão corporal (art. 129)                                                     38267\n",
       "Lesão corporal culposa na direção de veículo automotor (Art. 303)             26271\n",
       "Lesão corporal (art 129 § 9º)                                                 11541\n",
       "Drogas sem autorização ou em desacordo (Art.33, caput)                         9281\n",
       "A.I.-Drogas sem autorização ou em desacordo (Art.33, caput)                    3840\n",
       "A.I.-Roubo (art. 157)                                                          3521\n",
       "Homicídio simples (art. 121)                                                   2864\n",
       "A.I.-Lesão corporal (art. 129)                                                 2468\n",
       "Estupro de vulneravel (art.217-A)                                              2115\n",
       "Estupro (art.213)                                                              1232\n",
       "Lesão corporal culposa (art. 129. §6o.)                                        1177\n",
       "A.I.-Furto (art. 155)                                                          1083\n",
       "Homicídio culposo na direção de veículo automotor (Art. 302)                    743\n",
       "A.I.-Furto qualificado (art. 155, §4o.)                                         699\n",
       "Homicídio qualificado (art. 121, §2o.)                                          582\n",
       "A.I.-Estupro de vulneravel (art.217-A)                                          306\n",
       "A.I.-Lesão corporal culposa na direção de veículo automotor (Art. 303)          192\n",
       "Lesão corporal de natureza GRAVE (art. 129, §1o.)                               133\n",
       "A.I.-Lesão corporal (art 129 § 9º)                                              107\n",
       "Oferecer droga a pessoa de seu relacionamento (Art.33,§3º)                       81\n",
       "Furto de coisa comum (art. 156)                                                  72\n",
       "A.I.-Homicídio simples (art. 121)                                                49\n",
       "Homicídio culposo (art. 121, §3o.)                                               42\n",
       "A.I.-Oferecer droga a pessoa de seu relacionamento (Art.33,§3º)                  29\n",
       "A.I.-Tráfico de entorpecente (Art. 12)                                           28\n",
       "A.I.-Lesão corporal culposa (art. 129. §6o.)                                     27\n",
       "Lesão corporal  de natureza 'GRAVÍSSIMA' (art. 129, §2o.)                        17\n",
       "A.I.-Homicídio qualificado (art. 121, §2o.)                                      17\n",
       "A.I.-Porte de entorpecente (Art. 16)                                             16\n",
       "Lesão corporal seguida de morte (art. 129, §3o.)                                 12\n",
       "A.I.-Lesão corporal de natureza GRAVE (art. 129, §1o.)                            6\n",
       "Induzir, instigar ou auxiliar alguém ao uso indevido de droga(Art.33,§2º)         6\n",
       "A.I.-Homicídio culposo na direção de veículo automotor (Art. 302)                 4\n",
       "A.I.-Lesão corporal  de natureza 'GRAVÍSSIMA' (art. 129, §2o.)                    1\n",
       "A.I.-Furto de coisa comum (art. 156)                                              1\n",
       "A.I.-Homicídio culposo (art. 121, §3o.)                                           1\n",
       "Name: RUBRICA, dtype: int64"
      ]
     },
     "execution_count": 75,
     "metadata": {},
     "output_type": "execute_result"
    }
   ],
   "source": [
    "df['RUBRICA'].value_counts()"
   ]
  },
  {
   "cell_type": "code",
   "execution_count": 76,
   "metadata": {},
   "outputs": [
    {
     "name": "stdout",
     "output_type": "stream",
     "text": [
      "157        305107\n",
      "155        278971\n",
      "155§4       46353\n",
      "129         40735\n",
      "303         26463\n",
      "33caput     13121\n",
      "129§9       11648\n",
      "121          2913\n",
      "217-a        2421\n",
      "213          1232\n",
      "129§6        1204\n",
      "302           747\n",
      "121§2         599\n",
      "129§1         139\n",
      "33§3          110\n",
      "156            73\n",
      "121§3          43\n",
      "12             28\n",
      "129§2          18\n",
      "16             16\n",
      "129§3          12\n",
      "33§2            6\n",
      "Name: RUBRICA, dtype: int64\n",
      "\n",
      "\n",
      "\n",
      "    ANO  MES  RUBRICA   LATITUDE  LONGITUDE\n",
      "0  2016    7      155 -23.564984 -46.652035\n",
      "1  2016    5      157 -23.542476 -46.641928\n",
      "2  2016   10  33caput -23.542183 -46.640599\n",
      "3  2016    3      157 -23.609275 -46.455087\n",
      "4  2016   12      129 -23.573928 -46.620693\n"
     ]
    }
   ],
   "source": [
    "df_cat = df.copy()\n",
    "\n",
    "# categories = {'Roubo (art. 157)':'Roubo',\n",
    "#               'Furto (art. 155)': 'Furto',\n",
    "#               'Furto qualificado (art. 155, §4o.)': 'Furto',\n",
    "#               'A.I.-Roubo (art. 157)': 'Roubo',\n",
    "#               'A.I.-Furto (art. 155)': 'Furto',\n",
    "#               'A.I.-Furto qualificado (art. 155, §4o.)': 'Furto',\n",
    "#               'Furto de coisa comum (art. 156)': 'Furto',\n",
    "#               'A.I.-Furto de coisa comum (art. 156)': 'Furto'\n",
    "#              }\n",
    "\n",
    "def read_categories(value):\n",
    "    result = value.split('(')[-1].split(')')[0] # pegando apenas dentro de ()\n",
    "    result = result.replace(' ', '') # removendo espaços em branco\n",
    "    result = result.replace('.', '') # removendo ponto\n",
    "    result = result.lower() # padrão caixa baixa\n",
    "    result = result.replace('art', '') # removendo art\n",
    "    result = result.replace(',', '') # removendo vírgula\n",
    "    result = result.replace('o', '') # removendo caracteres indesejados\n",
    "    result = result.replace('º', '') # removendo caracteres indesejados\n",
    "    \n",
    "    return result\n",
    "\n",
    "df_cat['RUBRICA'] = df['RUBRICA'].map(read_categories)\n",
    "\n",
    "print(df_cat['RUBRICA'].value_counts())\n",
    "print('\\n\\n')\n",
    "print(df_cat.head())"
   ]
  },
  {
   "cell_type": "code",
   "execution_count": null,
   "metadata": {},
   "outputs": [],
   "source": []
  },
  {
   "cell_type": "code",
   "execution_count": null,
   "metadata": {},
   "outputs": [],
   "source": []
  },
  {
   "cell_type": "code",
   "execution_count": null,
   "metadata": {},
   "outputs": [],
   "source": []
  },
  {
   "cell_type": "code",
   "execution_count": null,
   "metadata": {},
   "outputs": [],
   "source": []
  },
  {
   "cell_type": "code",
   "execution_count": null,
   "metadata": {},
   "outputs": [],
   "source": []
  },
  {
   "cell_type": "code",
   "execution_count": null,
   "metadata": {},
   "outputs": [],
   "source": []
  }
 ],
 "metadata": {
  "kernelspec": {
   "display_name": "Python 3",
   "language": "python",
   "name": "python3"
  },
  "language_info": {
   "codemirror_mode": {
    "name": "ipython",
    "version": 3
   },
   "file_extension": ".py",
   "mimetype": "text/x-python",
   "name": "python",
   "nbconvert_exporter": "python",
   "pygments_lexer": "ipython3",
   "version": "3.5.6"
  }
 },
 "nbformat": 4,
 "nbformat_minor": 2
}
