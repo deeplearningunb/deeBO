{
  "nbformat": 4,
  "nbformat_minor": 0,
  "metadata": {
    "colab": {
      "name": "RDO_ANN_2.ipynb",
      "version": "0.3.2",
      "provenance": [],
      "collapsed_sections": []
    },
    "language_info": {
      "codemirror_mode": {
        "name": "ipython",
        "version": 3
      },
      "file_extension": ".py",
      "mimetype": "text/x-python",
      "name": "python",
      "nbconvert_exporter": "python",
      "pygments_lexer": "ipython3",
      "version": "3.6.5"
    },
    "kernelspec": {
      "name": "python3",
      "display_name": "Python 3"
    },
    "accelerator": "GPU"
  },
  "cells": [
    {
      "cell_type": "code",
      "metadata": {
        "id": "jeCJFSgMOmVh",
        "colab_type": "code",
        "outputId": "467fc97b-7217-4cae-b879-f2248964f24a",
        "colab": {
          "base_uri": "https://localhost:8080/",
          "height": 53
        }
      },
      "source": [
        "!! pip install python-geohash\n",
        "!! pip install geohash"
      ],
      "execution_count": 1,
      "outputs": [
        {
          "output_type": "execute_result",
          "data": {
            "text/plain": [
              "['Requirement already satisfied: geohash in /usr/local/lib/python3.6/dist-packages (1.0)',\n",
              " 'Requirement already satisfied: docutils>=0.3 in /usr/local/lib/python3.6/dist-packages (from geohash) (0.14)']"
            ]
          },
          "metadata": {
            "tags": []
          },
          "execution_count": 1
        }
      ]
    },
    {
      "cell_type": "code",
      "metadata": {
        "id": "QnqOlTtfQmP8",
        "colab_type": "code",
        "colab": {}
      },
      "source": [
        "# from tensorflow.python.client import device_lib\n",
        "# print(str(device_lib.list_local_devices()))"
      ],
      "execution_count": 0,
      "outputs": []
    },
    {
      "cell_type": "code",
      "metadata": {
        "id": "RB-3128rOfj9",
        "colab_type": "code",
        "colab": {}
      },
      "source": [
        "import numpy as np\n",
        "import matplotlib.pyplot as plt\n",
        "import pandas as pd\n",
        "from pickle import Pickler, Unpickler\n",
        "import Geohash\n",
        "from sklearn.metrics import accuracy_score"
      ],
      "execution_count": 0,
      "outputs": []
    },
    {
      "cell_type": "code",
      "metadata": {
        "id": "gT4kXPGXScX8",
        "colab_type": "code",
        "outputId": "23123d73-a0e9-4ddb-d07b-06c6ae1989f3",
        "colab": {
          "base_uri": "https://localhost:8080/",
          "height": 35
        }
      },
      "source": [
        "from google.colab import drive\n",
        "drive.mount(\"/content/gdrive\", force_remount=True)"
      ],
      "execution_count": 4,
      "outputs": [
        {
          "output_type": "stream",
          "text": [
            "Mounted at /content/gdrive\n"
          ],
          "name": "stdout"
        }
      ]
    },
    {
      "cell_type": "code",
      "metadata": {
        "id": "4qSqEvINYQcW",
        "colab_type": "code",
        "colab": {}
      },
      "source": [
        "root_path = \"gdrive/My Drive/Colab Notebooks/\""
      ],
      "execution_count": 0,
      "outputs": []
    },
    {
      "cell_type": "code",
      "metadata": {
        "id": "nz7aKkZTOfkA",
        "colab_type": "code",
        "colab": {}
      },
      "source": [
        "#Importando Dataset\n",
        "# df = Unpickler(open('./df_rdo_categ.sav', 'rb')).load()\n",
        "df1 = Unpickler(open(root_path + \"dataset/rdo1.sav\", 'rb')).load()\n",
        "df2 = Unpickler(open(root_path + \"/dataset/rdo2.sav\", 'rb')).load()\n",
        "df3 = Unpickler(open(root_path + \"/dataset/rdo3.sav\", 'rb')).load()\n",
        "df = pd.concat([df1, df2, df3])"
      ],
      "execution_count": 0,
      "outputs": []
    },
    {
      "cell_type": "code",
      "metadata": {
        "id": "knjHLdwBOfkD",
        "colab_type": "code",
        "colab": {}
      },
      "source": [
        "# df1 = df.iloc[:586000, :]\n",
        "# df2 = df.iloc[586000:1172000, :]\n",
        "# df3 = df.iloc[1172000:, :]\n",
        "\n",
        "# f = open('./rdo1.sav', 'wb')\n",
        "# Pickler(f).dump(df1)\n",
        "# f.close()\n",
        "\n",
        "# f = open('./rdo2.sav', 'wb')\n",
        "# Pickler(f).dump(df2)\n",
        "# f.close()\n",
        "\n",
        "# f = open('./rdo3.sav', 'wb')\n",
        "# Pickler(f).dump(df3)\n",
        "# f.close()"
      ],
      "execution_count": 0,
      "outputs": []
    },
    {
      "cell_type": "code",
      "metadata": {
        "id": "xg7mtvQqOfkG",
        "colab_type": "code",
        "colab": {}
      },
      "source": [
        "# df = df.drop(columns=['LATITUDE', 'LONGITUDE'])\n",
        "# df.head()"
      ],
      "execution_count": 0,
      "outputs": []
    },
    {
      "cell_type": "code",
      "metadata": {
        "id": "b6jD-hM9OfkK",
        "colab_type": "code",
        "colab": {}
      },
      "source": [
        "X = df.drop(columns=['GEOHASH']).values\n",
        "y = df[['GEOHASH']]\n",
        "y = pd.get_dummies(y, columns = ['GEOHASH'])\n",
        "y = y.values"
      ],
      "execution_count": 0,
      "outputs": []
    },
    {
      "cell_type": "code",
      "metadata": {
        "id": "rttkVU3-OfkN",
        "colab_type": "code",
        "colab": {}
      },
      "source": [
        "# Splitting the dataset into the Training set and Test set\n",
        "from sklearn.model_selection import train_test_split\n",
        "X_train, X_test, y_train, y_test = train_test_split(X, y, test_size = 0.3, random_state = 0)"
      ],
      "execution_count": 0,
      "outputs": []
    },
    {
      "cell_type": "code",
      "metadata": {
        "id": "ygwCe4-P6mj3",
        "colab_type": "code",
        "colab": {}
      },
      "source": [
        "## Separando as coordenadas para plotar num mapa depois e comparar com as geohashes\n",
        "\n",
        "X_teste_coordinates = X_test[:, :2]\n",
        "X_train_coordinates = X_train[:, :2]"
      ],
      "execution_count": 0,
      "outputs": []
    },
    {
      "cell_type": "code",
      "metadata": {
        "id": "ZANx1ZRl9iG_",
        "colab_type": "code",
        "colab": {}
      },
      "source": [
        "# Removendo colunas das coordenadas, pois elas não farão parte do treino ou teste. No lugar, teremos as geohashes\n",
        "X_test = X_test[:, 2:]\n",
        "X_train = X_train[:, 2:]"
      ],
      "execution_count": 0,
      "outputs": []
    },
    {
      "cell_type": "code",
      "metadata": {
        "id": "1wjIHDG96lsf",
        "colab_type": "code",
        "colab": {}
      },
      "source": [
        "# Feature Scaling\n",
        "from sklearn.preprocessing import StandardScaler\n",
        "sc = StandardScaler()\n",
        "X_train = sc.fit_transform(X_train)\n",
        "X_test = sc.transform(X_test)"
      ],
      "execution_count": 0,
      "outputs": []
    },
    {
      "cell_type": "code",
      "metadata": {
        "id": "nIG_uIFwC9vB",
        "colab_type": "code",
        "colab": {}
      },
      "source": [
        "# Necessário para pegar a categoriar, já que ainda está no formato de dummy\n",
        "\n",
        "y_test = np.argmax(y_test, axis=1)"
      ],
      "execution_count": 0,
      "outputs": []
    },
    {
      "cell_type": "markdown",
      "metadata": {
        "id": "WjUP1xgiOfkR",
        "colab_type": "text"
      },
      "source": [
        "## Construindo classificador"
      ]
    },
    {
      "cell_type": "code",
      "metadata": {
        "id": "Km8D9ZTqOfkS",
        "colab_type": "code",
        "outputId": "840f235d-b0f9-4366-a200-b2f7a91dd197",
        "colab": {
          "base_uri": "https://localhost:8080/",
          "height": 35
        }
      },
      "source": [
        "from keras.wrappers.scikit_learn import KerasClassifier\n",
        "from sklearn.model_selection import GridSearchCV\n",
        "from sklearn.model_selection import cross_val_score\n",
        "from keras.models import Sequential\n",
        "from keras.layers import Dense\n",
        "from keras.layers import Dropout"
      ],
      "execution_count": 14,
      "outputs": [
        {
          "output_type": "stream",
          "text": [
            "Using TensorFlow backend.\n"
          ],
          "name": "stderr"
        }
      ]
    },
    {
      "cell_type": "code",
      "metadata": {
        "id": "qOvx06CsOfkV",
        "colab_type": "code",
        "outputId": "09ba402d-22b4-4b72-a807-3292896f193f",
        "colab": {
          "base_uri": "https://localhost:8080/",
          "height": 35
        }
      },
      "source": [
        "len(df['GEOHASH'].unique())"
      ],
      "execution_count": 15,
      "outputs": [
        {
          "output_type": "execute_result",
          "data": {
            "text/plain": [
              "282"
            ]
          },
          "metadata": {
            "tags": []
          },
          "execution_count": 15
        }
      ]
    },
    {
      "cell_type": "code",
      "metadata": {
        "id": "cJ_FLsbXJv9-",
        "colab_type": "code",
        "colab": {}
      },
      "source": [
        "# Initialising the ANN\n",
        "classifier = Sequential()\n",
        "\n",
        "# Adding the input layer and the first hidden layer\n",
        "classifier.add(Dense(units = 6, kernel_initializer = 'uniform', activation = 'relu', input_dim = 21))\n",
        "classifier.add(Dropout(rate = 0.1))\n",
        "\n",
        "# Adding the second hidden layer\n",
        "classifier.add(Dense(units = 6, kernel_initializer = 'uniform', activation = 'sigmoid'))\n",
        "classifier.add(Dropout(rate = 0.1))\n",
        "\n",
        "# Adding the third hidden layer\n",
        "classifier.add(Dense(units = 6, kernel_initializer = 'uniform', activation = 'sigmoid'))\n",
        "classifier.add(Dropout(rate = 0.1))\n",
        "\n",
        "# Adding the output layer\n",
        "classifier.add(Dense(units = 282, kernel_initializer = 'uniform', activation = 'relu'))\n",
        "\n",
        "# Compiling the ANN\n",
        "classifier.compile(optimizer = 'adam', loss = 'binary_crossentropy', metrics = ['accuracy'])"
      ],
      "execution_count": 0,
      "outputs": []
    },
    {
      "cell_type": "code",
      "metadata": {
        "id": "XGm0K5pvOfkc",
        "colab_type": "code",
        "outputId": "a2170b2a-b98e-4404-c4e1-242108e97f6e",
        "colab": {
          "base_uri": "https://localhost:8080/",
          "height": 755
        }
      },
      "source": [
        "# Fitting the ANN to the Training set\n",
        "classifier.fit(X_train, y_train, batch_size = 100, epochs = 20)"
      ],
      "execution_count": 108,
      "outputs": [
        {
          "output_type": "stream",
          "text": [
            "Epoch 1/20\n",
            "1236231/1236231 [==============================] - 51s 41us/step - loss: 0.0353 - acc: 0.9965\n",
            "Epoch 2/20\n",
            "1236231/1236231 [==============================] - 49s 40us/step - loss: 0.0351 - acc: 0.9965\n",
            "Epoch 3/20\n",
            "1236231/1236231 [==============================] - 49s 40us/step - loss: 0.0351 - acc: 0.9965\n",
            "Epoch 4/20\n",
            "1236231/1236231 [==============================] - 50s 40us/step - loss: 0.0351 - acc: 0.9965\n",
            "Epoch 5/20\n",
            "1236231/1236231 [==============================] - 50s 40us/step - loss: 0.0351 - acc: 0.9965\n",
            "Epoch 6/20\n",
            "1236231/1236231 [==============================] - 49s 40us/step - loss: 0.0352 - acc: 0.9965\n",
            "Epoch 7/20\n",
            "1236231/1236231 [==============================] - 49s 40us/step - loss: 0.0355 - acc: 0.9965\n",
            "Epoch 8/20\n",
            "1236231/1236231 [==============================] - 49s 40us/step - loss: 0.0358 - acc: 0.9965\n",
            "Epoch 9/20\n",
            "1236231/1236231 [==============================] - 49s 40us/step - loss: 0.0358 - acc: 0.9965\n",
            "Epoch 10/20\n",
            "1236231/1236231 [==============================] - 49s 39us/step - loss: 0.0358 - acc: 0.9965\n",
            "Epoch 11/20\n",
            "1236231/1236231 [==============================] - 51s 42us/step - loss: 0.0358 - acc: 0.9965\n",
            "Epoch 12/20\n",
            "1236231/1236231 [==============================] - 56s 45us/step - loss: 0.0358 - acc: 0.9965\n",
            "Epoch 13/20\n",
            "1236231/1236231 [==============================] - 49s 40us/step - loss: 0.0358 - acc: 0.9965\n",
            "Epoch 14/20\n",
            "1236231/1236231 [==============================] - 49s 40us/step - loss: 0.0358 - acc: 0.9965\n",
            "Epoch 15/20\n",
            "1236231/1236231 [==============================] - 49s 40us/step - loss: 0.0358 - acc: 0.9965\n",
            "Epoch 16/20\n",
            "1236231/1236231 [==============================] - 49s 40us/step - loss: 0.0358 - acc: 0.9965\n",
            "Epoch 17/20\n",
            "1236231/1236231 [==============================] - 50s 40us/step - loss: 0.0358 - acc: 0.9965\n",
            "Epoch 18/20\n",
            "1236231/1236231 [==============================] - 49s 39us/step - loss: 0.0358 - acc: 0.9965\n",
            "Epoch 19/20\n",
            "1236231/1236231 [==============================] - 48s 39us/step - loss: 0.0358 - acc: 0.9965\n",
            "Epoch 20/20\n",
            "1236231/1236231 [==============================] - 49s 40us/step - loss: 0.0358 - acc: 0.9965\n"
          ],
          "name": "stdout"
        },
        {
          "output_type": "execute_result",
          "data": {
            "text/plain": [
              "<keras.callbacks.History at 0x7f23152fd630>"
            ]
          },
          "metadata": {
            "tags": []
          },
          "execution_count": 108
        }
      ]
    },
    {
      "cell_type": "markdown",
      "metadata": {
        "id": "4MBj1BX8Go1V",
        "colab_type": "text"
      },
      "source": [
        ""
      ]
    },
    {
      "cell_type": "code",
      "metadata": {
        "id": "uZ8U0mxGOfkf",
        "colab_type": "code",
        "colab": {}
      },
      "source": [
        "y_pred = classifier.predict(X_test)"
      ],
      "execution_count": 0,
      "outputs": []
    },
    {
      "cell_type": "code",
      "metadata": {
        "id": "CptfVGB9LUL7",
        "colab_type": "code",
        "colab": {}
      },
      "source": [
        "y_pred = np.argmax(y_pred, axis=1)"
      ],
      "execution_count": 0,
      "outputs": []
    },
    {
      "cell_type": "code",
      "metadata": {
        "id": "M35TjAdWPTtd",
        "colab_type": "code",
        "colab": {
          "base_uri": "https://localhost:8080/",
          "height": 35
        },
        "outputId": "e55f7725-2d60-4289-f364-fcfc5277e11d"
      },
      "source": [
        "y_pred"
      ],
      "execution_count": 111,
      "outputs": [
        {
          "output_type": "execute_result",
          "data": {
            "text/plain": [
              "array([142, 142, 142, ..., 142, 142, 142])"
            ]
          },
          "metadata": {
            "tags": []
          },
          "execution_count": 111
        }
      ]
    },
    {
      "cell_type": "code",
      "metadata": {
        "id": "tzR07MF1Wt2u",
        "colab_type": "code",
        "colab": {
          "base_uri": "https://localhost:8080/",
          "height": 35
        },
        "outputId": "56c1c30b-dbbf-42ba-bc34-ea979febfeff"
      },
      "source": [
        "accuracy_score(y_test, y_pred)"
      ],
      "execution_count": 112,
      "outputs": [
        {
          "output_type": "execute_result",
          "data": {
            "text/plain": [
              "0.09836848403401949"
            ]
          },
          "metadata": {
            "tags": []
          },
          "execution_count": 112
        }
      ]
    },
    {
      "cell_type": "code",
      "metadata": {
        "id": "wgrVM10KJtcv",
        "colab_type": "code",
        "colab": {}
      },
      "source": [
        ""
      ],
      "execution_count": 0,
      "outputs": []
    }
  ]
}