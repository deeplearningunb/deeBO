{
 "cells": [
  {
   "cell_type": "markdown",
   "metadata": {},
   "source": [
    "## Visualizando mapa"
   ]
  },
  {
   "cell_type": "code",
   "execution_count": 1,
   "metadata": {},
   "outputs": [
    {
     "data": {
      "text/html": [
       "\n",
       "    <div class=\"bk-root\">\n",
       "        <a href=\"https://bokeh.pydata.org\" target=\"_blank\" class=\"bk-logo bk-logo-small bk-logo-notebook\"></a>\n",
       "        <span id=\"1001\">Loading BokehJS ...</span>\n",
       "    </div>"
      ]
     },
     "metadata": {},
     "output_type": "display_data"
    },
    {
     "data": {
      "application/javascript": [
       "\n",
       "(function(root) {\n",
       "  function now() {\n",
       "    return new Date();\n",
       "  }\n",
       "\n",
       "  var force = true;\n",
       "\n",
       "  if (typeof root._bokeh_onload_callbacks === \"undefined\" || force === true) {\n",
       "    root._bokeh_onload_callbacks = [];\n",
       "    root._bokeh_is_loading = undefined;\n",
       "  }\n",
       "\n",
       "  var JS_MIME_TYPE = 'application/javascript';\n",
       "  var HTML_MIME_TYPE = 'text/html';\n",
       "  var EXEC_MIME_TYPE = 'application/vnd.bokehjs_exec.v0+json';\n",
       "  var CLASS_NAME = 'output_bokeh rendered_html';\n",
       "\n",
       "  /**\n",
       "   * Render data to the DOM node\n",
       "   */\n",
       "  function render(props, node) {\n",
       "    var script = document.createElement(\"script\");\n",
       "    node.appendChild(script);\n",
       "  }\n",
       "\n",
       "  /**\n",
       "   * Handle when an output is cleared or removed\n",
       "   */\n",
       "  function handleClearOutput(event, handle) {\n",
       "    var cell = handle.cell;\n",
       "\n",
       "    var id = cell.output_area._bokeh_element_id;\n",
       "    var server_id = cell.output_area._bokeh_server_id;\n",
       "    // Clean up Bokeh references\n",
       "    if (id != null && id in Bokeh.index) {\n",
       "      Bokeh.index[id].model.document.clear();\n",
       "      delete Bokeh.index[id];\n",
       "    }\n",
       "\n",
       "    if (server_id !== undefined) {\n",
       "      // Clean up Bokeh references\n",
       "      var cmd = \"from bokeh.io.state import curstate; print(curstate().uuid_to_server['\" + server_id + \"'].get_sessions()[0].document.roots[0]._id)\";\n",
       "      cell.notebook.kernel.execute(cmd, {\n",
       "        iopub: {\n",
       "          output: function(msg) {\n",
       "            var id = msg.content.text.trim();\n",
       "            if (id in Bokeh.index) {\n",
       "              Bokeh.index[id].model.document.clear();\n",
       "              delete Bokeh.index[id];\n",
       "            }\n",
       "          }\n",
       "        }\n",
       "      });\n",
       "      // Destroy server and session\n",
       "      var cmd = \"import bokeh.io.notebook as ion; ion.destroy_server('\" + server_id + \"')\";\n",
       "      cell.notebook.kernel.execute(cmd);\n",
       "    }\n",
       "  }\n",
       "\n",
       "  /**\n",
       "   * Handle when a new output is added\n",
       "   */\n",
       "  function handleAddOutput(event, handle) {\n",
       "    var output_area = handle.output_area;\n",
       "    var output = handle.output;\n",
       "\n",
       "    // limit handleAddOutput to display_data with EXEC_MIME_TYPE content only\n",
       "    if ((output.output_type != \"display_data\") || (!output.data.hasOwnProperty(EXEC_MIME_TYPE))) {\n",
       "      return\n",
       "    }\n",
       "\n",
       "    var toinsert = output_area.element.find(\".\" + CLASS_NAME.split(' ')[0]);\n",
       "\n",
       "    if (output.metadata[EXEC_MIME_TYPE][\"id\"] !== undefined) {\n",
       "      toinsert[toinsert.length - 1].firstChild.textContent = output.data[JS_MIME_TYPE];\n",
       "      // store reference to embed id on output_area\n",
       "      output_area._bokeh_element_id = output.metadata[EXEC_MIME_TYPE][\"id\"];\n",
       "    }\n",
       "    if (output.metadata[EXEC_MIME_TYPE][\"server_id\"] !== undefined) {\n",
       "      var bk_div = document.createElement(\"div\");\n",
       "      bk_div.innerHTML = output.data[HTML_MIME_TYPE];\n",
       "      var script_attrs = bk_div.children[0].attributes;\n",
       "      for (var i = 0; i < script_attrs.length; i++) {\n",
       "        toinsert[toinsert.length - 1].firstChild.setAttribute(script_attrs[i].name, script_attrs[i].value);\n",
       "      }\n",
       "      // store reference to server id on output_area\n",
       "      output_area._bokeh_server_id = output.metadata[EXEC_MIME_TYPE][\"server_id\"];\n",
       "    }\n",
       "  }\n",
       "\n",
       "  function register_renderer(events, OutputArea) {\n",
       "\n",
       "    function append_mime(data, metadata, element) {\n",
       "      // create a DOM node to render to\n",
       "      var toinsert = this.create_output_subarea(\n",
       "        metadata,\n",
       "        CLASS_NAME,\n",
       "        EXEC_MIME_TYPE\n",
       "      );\n",
       "      this.keyboard_manager.register_events(toinsert);\n",
       "      // Render to node\n",
       "      var props = {data: data, metadata: metadata[EXEC_MIME_TYPE]};\n",
       "      render(props, toinsert[toinsert.length - 1]);\n",
       "      element.append(toinsert);\n",
       "      return toinsert\n",
       "    }\n",
       "\n",
       "    /* Handle when an output is cleared or removed */\n",
       "    events.on('clear_output.CodeCell', handleClearOutput);\n",
       "    events.on('delete.Cell', handleClearOutput);\n",
       "\n",
       "    /* Handle when a new output is added */\n",
       "    events.on('output_added.OutputArea', handleAddOutput);\n",
       "\n",
       "    /**\n",
       "     * Register the mime type and append_mime function with output_area\n",
       "     */\n",
       "    OutputArea.prototype.register_mime_type(EXEC_MIME_TYPE, append_mime, {\n",
       "      /* Is output safe? */\n",
       "      safe: true,\n",
       "      /* Index of renderer in `output_area.display_order` */\n",
       "      index: 0\n",
       "    });\n",
       "  }\n",
       "\n",
       "  // register the mime type if in Jupyter Notebook environment and previously unregistered\n",
       "  if (root.Jupyter !== undefined) {\n",
       "    var events = require('base/js/events');\n",
       "    var OutputArea = require('notebook/js/outputarea').OutputArea;\n",
       "\n",
       "    if (OutputArea.prototype.mime_types().indexOf(EXEC_MIME_TYPE) == -1) {\n",
       "      register_renderer(events, OutputArea);\n",
       "    }\n",
       "  }\n",
       "\n",
       "  \n",
       "  if (typeof (root._bokeh_timeout) === \"undefined\" || force === true) {\n",
       "    root._bokeh_timeout = Date.now() + 5000;\n",
       "    root._bokeh_failed_load = false;\n",
       "  }\n",
       "\n",
       "  var NB_LOAD_WARNING = {'data': {'text/html':\n",
       "     \"<div style='background-color: #fdd'>\\n\"+\n",
       "     \"<p>\\n\"+\n",
       "     \"BokehJS does not appear to have successfully loaded. If loading BokehJS from CDN, this \\n\"+\n",
       "     \"may be due to a slow or bad network connection. Possible fixes:\\n\"+\n",
       "     \"</p>\\n\"+\n",
       "     \"<ul>\\n\"+\n",
       "     \"<li>re-rerun `output_notebook()` to attempt to load from CDN again, or</li>\\n\"+\n",
       "     \"<li>use INLINE resources instead, as so:</li>\\n\"+\n",
       "     \"</ul>\\n\"+\n",
       "     \"<code>\\n\"+\n",
       "     \"from bokeh.resources import INLINE\\n\"+\n",
       "     \"output_notebook(resources=INLINE)\\n\"+\n",
       "     \"</code>\\n\"+\n",
       "     \"</div>\"}};\n",
       "\n",
       "  function display_loaded() {\n",
       "    var el = document.getElementById(\"1001\");\n",
       "    if (el != null) {\n",
       "      el.textContent = \"BokehJS is loading...\";\n",
       "    }\n",
       "    if (root.Bokeh !== undefined) {\n",
       "      if (el != null) {\n",
       "        el.textContent = \"BokehJS \" + root.Bokeh.version + \" successfully loaded.\";\n",
       "      }\n",
       "    } else if (Date.now() < root._bokeh_timeout) {\n",
       "      setTimeout(display_loaded, 100)\n",
       "    }\n",
       "  }\n",
       "\n",
       "\n",
       "  function run_callbacks() {\n",
       "    try {\n",
       "      root._bokeh_onload_callbacks.forEach(function(callback) {\n",
       "        if (callback != null)\n",
       "          callback();\n",
       "      });\n",
       "    } finally {\n",
       "      delete root._bokeh_onload_callbacks\n",
       "    }\n",
       "    console.debug(\"Bokeh: all callbacks have finished\");\n",
       "  }\n",
       "\n",
       "  function load_libs(css_urls, js_urls, callback) {\n",
       "    if (css_urls == null) css_urls = [];\n",
       "    if (js_urls == null) js_urls = [];\n",
       "\n",
       "    root._bokeh_onload_callbacks.push(callback);\n",
       "    if (root._bokeh_is_loading > 0) {\n",
       "      console.debug(\"Bokeh: BokehJS is being loaded, scheduling callback at\", now());\n",
       "      return null;\n",
       "    }\n",
       "    if (js_urls == null || js_urls.length === 0) {\n",
       "      run_callbacks();\n",
       "      return null;\n",
       "    }\n",
       "    console.debug(\"Bokeh: BokehJS not loaded, scheduling load and callback at\", now());\n",
       "    root._bokeh_is_loading = css_urls.length + js_urls.length;\n",
       "\n",
       "    function on_load() {\n",
       "      root._bokeh_is_loading--;\n",
       "      if (root._bokeh_is_loading === 0) {\n",
       "        console.debug(\"Bokeh: all BokehJS libraries/stylesheets loaded\");\n",
       "        run_callbacks()\n",
       "      }\n",
       "    }\n",
       "\n",
       "    function on_error() {\n",
       "      console.error(\"failed to load \" + url);\n",
       "    }\n",
       "\n",
       "    for (var i = 0; i < css_urls.length; i++) {\n",
       "      var url = css_urls[i];\n",
       "      const element = document.createElement(\"link\");\n",
       "      element.onload = on_load;\n",
       "      element.onerror = on_error;\n",
       "      element.rel = \"stylesheet\";\n",
       "      element.type = \"text/css\";\n",
       "      element.href = url;\n",
       "      console.debug(\"Bokeh: injecting link tag for BokehJS stylesheet: \", url);\n",
       "      document.body.appendChild(element);\n",
       "    }\n",
       "\n",
       "    for (var i = 0; i < js_urls.length; i++) {\n",
       "      var url = js_urls[i];\n",
       "      var element = document.createElement('script');\n",
       "      element.onload = on_load;\n",
       "      element.onerror = on_error;\n",
       "      element.async = false;\n",
       "      element.src = url;\n",
       "      console.debug(\"Bokeh: injecting script tag for BokehJS library: \", url);\n",
       "      document.head.appendChild(element);\n",
       "    }\n",
       "  };var element = document.getElementById(\"1001\");\n",
       "  if (element == null) {\n",
       "    console.error(\"Bokeh: ERROR: autoload.js configured with elementid '1001' but no matching script tag was found. \")\n",
       "    return false;\n",
       "  }\n",
       "\n",
       "  function inject_raw_css(css) {\n",
       "    const element = document.createElement(\"style\");\n",
       "    element.appendChild(document.createTextNode(css));\n",
       "    document.body.appendChild(element);\n",
       "  }\n",
       "\n",
       "  var js_urls = [\"https://cdn.pydata.org/bokeh/release/bokeh-1.2.0.min.js\", \"https://cdn.pydata.org/bokeh/release/bokeh-widgets-1.2.0.min.js\", \"https://cdn.pydata.org/bokeh/release/bokeh-tables-1.2.0.min.js\", \"https://cdn.pydata.org/bokeh/release/bokeh-gl-1.2.0.min.js\"];\n",
       "  var css_urls = [\"https://cdn.pydata.org/bokeh/release/bokeh-1.2.0.min.css\", \"https://cdn.pydata.org/bokeh/release/bokeh-widgets-1.2.0.min.css\", \"https://cdn.pydata.org/bokeh/release/bokeh-tables-1.2.0.min.css\"];\n",
       "\n",
       "  var inline_js = [\n",
       "    function(Bokeh) {\n",
       "      Bokeh.set_log_level(\"info\");\n",
       "    },\n",
       "    \n",
       "    function(Bokeh) {\n",
       "      \n",
       "    },\n",
       "    function(Bokeh) {} // ensure no trailing comma for IE\n",
       "  ];\n",
       "\n",
       "  function run_inline_js() {\n",
       "    \n",
       "    if ((root.Bokeh !== undefined) || (force === true)) {\n",
       "      for (var i = 0; i < inline_js.length; i++) {\n",
       "        inline_js[i].call(root, root.Bokeh);\n",
       "      }if (force === true) {\n",
       "        display_loaded();\n",
       "      }} else if (Date.now() < root._bokeh_timeout) {\n",
       "      setTimeout(run_inline_js, 100);\n",
       "    } else if (!root._bokeh_failed_load) {\n",
       "      console.log(\"Bokeh: BokehJS failed to load within specified timeout.\");\n",
       "      root._bokeh_failed_load = true;\n",
       "    } else if (force !== true) {\n",
       "      var cell = $(document.getElementById(\"1001\")).parents('.cell').data().cell;\n",
       "      cell.output_area.append_execute_result(NB_LOAD_WARNING)\n",
       "    }\n",
       "\n",
       "  }\n",
       "\n",
       "  if (root._bokeh_is_loading === 0) {\n",
       "    console.debug(\"Bokeh: BokehJS loaded, going straight to plotting\");\n",
       "    run_inline_js();\n",
       "  } else {\n",
       "    load_libs(css_urls, js_urls, function() {\n",
       "      console.debug(\"Bokeh: BokehJS plotting callback run at\", now());\n",
       "      run_inline_js();\n",
       "    });\n",
       "  }\n",
       "}(window));"
      ],
      "application/vnd.bokehjs_load.v0+json": "\n(function(root) {\n  function now() {\n    return new Date();\n  }\n\n  var force = true;\n\n  if (typeof root._bokeh_onload_callbacks === \"undefined\" || force === true) {\n    root._bokeh_onload_callbacks = [];\n    root._bokeh_is_loading = undefined;\n  }\n\n  \n\n  \n  if (typeof (root._bokeh_timeout) === \"undefined\" || force === true) {\n    root._bokeh_timeout = Date.now() + 5000;\n    root._bokeh_failed_load = false;\n  }\n\n  var NB_LOAD_WARNING = {'data': {'text/html':\n     \"<div style='background-color: #fdd'>\\n\"+\n     \"<p>\\n\"+\n     \"BokehJS does not appear to have successfully loaded. If loading BokehJS from CDN, this \\n\"+\n     \"may be due to a slow or bad network connection. Possible fixes:\\n\"+\n     \"</p>\\n\"+\n     \"<ul>\\n\"+\n     \"<li>re-rerun `output_notebook()` to attempt to load from CDN again, or</li>\\n\"+\n     \"<li>use INLINE resources instead, as so:</li>\\n\"+\n     \"</ul>\\n\"+\n     \"<code>\\n\"+\n     \"from bokeh.resources import INLINE\\n\"+\n     \"output_notebook(resources=INLINE)\\n\"+\n     \"</code>\\n\"+\n     \"</div>\"}};\n\n  function display_loaded() {\n    var el = document.getElementById(\"1001\");\n    if (el != null) {\n      el.textContent = \"BokehJS is loading...\";\n    }\n    if (root.Bokeh !== undefined) {\n      if (el != null) {\n        el.textContent = \"BokehJS \" + root.Bokeh.version + \" successfully loaded.\";\n      }\n    } else if (Date.now() < root._bokeh_timeout) {\n      setTimeout(display_loaded, 100)\n    }\n  }\n\n\n  function run_callbacks() {\n    try {\n      root._bokeh_onload_callbacks.forEach(function(callback) {\n        if (callback != null)\n          callback();\n      });\n    } finally {\n      delete root._bokeh_onload_callbacks\n    }\n    console.debug(\"Bokeh: all callbacks have finished\");\n  }\n\n  function load_libs(css_urls, js_urls, callback) {\n    if (css_urls == null) css_urls = [];\n    if (js_urls == null) js_urls = [];\n\n    root._bokeh_onload_callbacks.push(callback);\n    if (root._bokeh_is_loading > 0) {\n      console.debug(\"Bokeh: BokehJS is being loaded, scheduling callback at\", now());\n      return null;\n    }\n    if (js_urls == null || js_urls.length === 0) {\n      run_callbacks();\n      return null;\n    }\n    console.debug(\"Bokeh: BokehJS not loaded, scheduling load and callback at\", now());\n    root._bokeh_is_loading = css_urls.length + js_urls.length;\n\n    function on_load() {\n      root._bokeh_is_loading--;\n      if (root._bokeh_is_loading === 0) {\n        console.debug(\"Bokeh: all BokehJS libraries/stylesheets loaded\");\n        run_callbacks()\n      }\n    }\n\n    function on_error() {\n      console.error(\"failed to load \" + url);\n    }\n\n    for (var i = 0; i < css_urls.length; i++) {\n      var url = css_urls[i];\n      const element = document.createElement(\"link\");\n      element.onload = on_load;\n      element.onerror = on_error;\n      element.rel = \"stylesheet\";\n      element.type = \"text/css\";\n      element.href = url;\n      console.debug(\"Bokeh: injecting link tag for BokehJS stylesheet: \", url);\n      document.body.appendChild(element);\n    }\n\n    for (var i = 0; i < js_urls.length; i++) {\n      var url = js_urls[i];\n      var element = document.createElement('script');\n      element.onload = on_load;\n      element.onerror = on_error;\n      element.async = false;\n      element.src = url;\n      console.debug(\"Bokeh: injecting script tag for BokehJS library: \", url);\n      document.head.appendChild(element);\n    }\n  };var element = document.getElementById(\"1001\");\n  if (element == null) {\n    console.error(\"Bokeh: ERROR: autoload.js configured with elementid '1001' but no matching script tag was found. \")\n    return false;\n  }\n\n  function inject_raw_css(css) {\n    const element = document.createElement(\"style\");\n    element.appendChild(document.createTextNode(css));\n    document.body.appendChild(element);\n  }\n\n  var js_urls = [\"https://cdn.pydata.org/bokeh/release/bokeh-1.2.0.min.js\", \"https://cdn.pydata.org/bokeh/release/bokeh-widgets-1.2.0.min.js\", \"https://cdn.pydata.org/bokeh/release/bokeh-tables-1.2.0.min.js\", \"https://cdn.pydata.org/bokeh/release/bokeh-gl-1.2.0.min.js\"];\n  var css_urls = [\"https://cdn.pydata.org/bokeh/release/bokeh-1.2.0.min.css\", \"https://cdn.pydata.org/bokeh/release/bokeh-widgets-1.2.0.min.css\", \"https://cdn.pydata.org/bokeh/release/bokeh-tables-1.2.0.min.css\"];\n\n  var inline_js = [\n    function(Bokeh) {\n      Bokeh.set_log_level(\"info\");\n    },\n    \n    function(Bokeh) {\n      \n    },\n    function(Bokeh) {} // ensure no trailing comma for IE\n  ];\n\n  function run_inline_js() {\n    \n    if ((root.Bokeh !== undefined) || (force === true)) {\n      for (var i = 0; i < inline_js.length; i++) {\n        inline_js[i].call(root, root.Bokeh);\n      }if (force === true) {\n        display_loaded();\n      }} else if (Date.now() < root._bokeh_timeout) {\n      setTimeout(run_inline_js, 100);\n    } else if (!root._bokeh_failed_load) {\n      console.log(\"Bokeh: BokehJS failed to load within specified timeout.\");\n      root._bokeh_failed_load = true;\n    } else if (force !== true) {\n      var cell = $(document.getElementById(\"1001\")).parents('.cell').data().cell;\n      cell.output_area.append_execute_result(NB_LOAD_WARNING)\n    }\n\n  }\n\n  if (root._bokeh_is_loading === 0) {\n    console.debug(\"Bokeh: BokehJS loaded, going straight to plotting\");\n    run_inline_js();\n  } else {\n    load_libs(css_urls, js_urls, function() {\n      console.debug(\"Bokeh: BokehJS plotting callback run at\", now());\n      run_inline_js();\n    });\n  }\n}(window));"
     },
     "metadata": {},
     "output_type": "display_data"
    }
   ],
   "source": [
    "# Adiciona bibliotecas de visualização\n",
    "import numpy as np\n",
    "import pandas as pd\n",
    "from bokeh.io import output_notebook, show\n",
    "from bokeh.plotting import figure\n",
    "from bokeh.models import WMTSTileSource\n",
    "from bokeh.models import ColumnDataSource\n",
    "\n",
    "output_notebook()"
   ]
  },
  {
   "cell_type": "code",
   "execution_count": 2,
   "metadata": {},
   "outputs": [],
   "source": [
    "# Marcador de coordenadas\n",
    "SP = x_range,y_range = ((-5247500,-5135550), (-289990,-5123549))\n",
    "\n",
    "p = figure(tools='pan, wheel_zoom', x_range=x_range, y_range=y_range, \n",
    "           x_axis_type=\"mercator\", y_axis_type=\"mercator\", plot_width=960)"
   ]
  },
  {
   "cell_type": "code",
   "execution_count": 3,
   "metadata": {},
   "outputs": [
    {
     "data": {
      "text/html": [
       "<div style=\"display: table;\"><div style=\"display: table-row;\"><div style=\"display: table-cell;\"><b title=\"bokeh.models.renderers.TileRenderer\">TileRenderer</b>(</div><div style=\"display: table-cell;\">id&nbsp;=&nbsp;'1035', <span id=\"1038\" style=\"cursor: pointer;\">&hellip;)</span></div></div><div class=\"1037\" style=\"display: none;\"><div style=\"display: table-cell;\"></div><div style=\"display: table-cell;\">alpha&nbsp;=&nbsp;1.0,</div></div><div class=\"1037\" style=\"display: none;\"><div style=\"display: table-cell;\"></div><div style=\"display: table-cell;\">js_event_callbacks&nbsp;=&nbsp;{},</div></div><div class=\"1037\" style=\"display: none;\"><div style=\"display: table-cell;\"></div><div style=\"display: table-cell;\">js_property_callbacks&nbsp;=&nbsp;{},</div></div><div class=\"1037\" style=\"display: none;\"><div style=\"display: table-cell;\"></div><div style=\"display: table-cell;\">level&nbsp;=&nbsp;'glyph',</div></div><div class=\"1037\" style=\"display: none;\"><div style=\"display: table-cell;\"></div><div style=\"display: table-cell;\">name&nbsp;=&nbsp;None,</div></div><div class=\"1037\" style=\"display: none;\"><div style=\"display: table-cell;\"></div><div style=\"display: table-cell;\">render_parents&nbsp;=&nbsp;True,</div></div><div class=\"1037\" style=\"display: none;\"><div style=\"display: table-cell;\"></div><div style=\"display: table-cell;\">smoothing&nbsp;=&nbsp;True,</div></div><div class=\"1037\" style=\"display: none;\"><div style=\"display: table-cell;\"></div><div style=\"display: table-cell;\">subscribed_events&nbsp;=&nbsp;[],</div></div><div class=\"1037\" style=\"display: none;\"><div style=\"display: table-cell;\"></div><div style=\"display: table-cell;\">tags&nbsp;=&nbsp;[],</div></div><div class=\"1037\" style=\"display: none;\"><div style=\"display: table-cell;\"></div><div style=\"display: table-cell;\">tile_source&nbsp;=&nbsp;WMTSTileSource(id='1034', ...),</div></div><div class=\"1037\" style=\"display: none;\"><div style=\"display: table-cell;\"></div><div style=\"display: table-cell;\">visible&nbsp;=&nbsp;True,</div></div><div class=\"1037\" style=\"display: none;\"><div style=\"display: table-cell;\"></div><div style=\"display: table-cell;\">x_range_name&nbsp;=&nbsp;'default',</div></div><div class=\"1037\" style=\"display: none;\"><div style=\"display: table-cell;\"></div><div style=\"display: table-cell;\">y_range_name&nbsp;=&nbsp;'default')</div></div></div>\n",
       "<script>\n",
       "(function() {\n",
       "  var expanded = false;\n",
       "  var ellipsis = document.getElementById(\"1038\");\n",
       "  ellipsis.addEventListener(\"click\", function() {\n",
       "    var rows = document.getElementsByClassName(\"1037\");\n",
       "    for (var i = 0; i < rows.length; i++) {\n",
       "      var el = rows[i];\n",
       "      el.style.display = expanded ? \"none\" : \"table-row\";\n",
       "    }\n",
       "    ellipsis.innerHTML = expanded ? \"&hellip;)\" : \"&lsaquo;&lsaquo;&lsaquo;\";\n",
       "    expanded = !expanded;\n",
       "  });\n",
       "})();\n",
       "</script>\n"
      ],
      "text/plain": [
       "TileRenderer(id='1035', ...)"
      ]
     },
     "execution_count": 3,
     "metadata": {},
     "output_type": "execute_result"
    }
   ],
   "source": [
    "# Define o tipo de mapa\n",
    "# url = 'http://a.basemaps.cartocdn.com/rastertiles/voyager/{Z}/{X}/{Y}.png'\n",
    "#url = 'http://a.basemaps.cartocdn.com/rastertiles/voyager_labels_under/{Z}/{X}/{Y}.png'\n",
    "# url = 'http://a.basemaps.cartocdn.com/rastertiles/voyager_no_labels_no_buildings/{Z}/{X}/{Y}.png'\n",
    "# url = 'http://a.basemaps.cartocdn.com/rastertiles/light_all/{Z}/{X}/{Y}.png'\n",
    "url = 'http://a.basemaps.cartocdn.com/rastertiles/dark_all/{Z}/{X}/{Y}.png'\n",
    "# url = 'http://a.basemaps.cartocdn.com/rastertiles/dark_nolabels/{Z}/{X}/{Y}.png'\n",
    "\n",
    "attribution = \"Mapa da cidade de São Paulo\"\n",
    "\n",
    "p.add_tile(WMTSTileSource(url=url, attribution=attribution))"
   ]
  },
  {
   "cell_type": "code",
   "execution_count": 5,
   "metadata": {},
   "outputs": [],
   "source": [
    "#show(p)"
   ]
  },
  {
   "cell_type": "code",
   "execution_count": 6,
   "metadata": {},
   "outputs": [],
   "source": [
    "def wgs84_to_web_mercator2(df, lon='LONGITUDE', lat='LATITUDE'):\n",
    "    \"\"\"Converts decimal longitude/latitude to Web Mercator format\"\"\"\n",
    "    k = 6378137\n",
    "    df[\"x\"] = df[lon] * (k * np.pi/180.0)\n",
    "    df[\"y\"] = np.log(np.tan((90 + df[lat]) * np.pi/360.0)) * k\n",
    "    #return df"
   ]
  },
  {
   "cell_type": "code",
   "execution_count": 7,
   "metadata": {},
   "outputs": [],
   "source": [
    "def read_data(year):\n",
    "    return pd.read_csv('./crime-data-in-brazil/BO_'+ year +'.csv')"
   ]
  },
  {
   "cell_type": "code",
   "execution_count": 8,
   "metadata": {},
   "outputs": [
    {
     "name": "stderr",
     "output_type": "stream",
     "text": [
      "/Users/thiagolima/anaconda3/lib/python3.6/site-packages/IPython/core/interactiveshell.py:3214: DtypeWarning: Columns (19,21) have mixed types. Specify dtype option on import or set low_memory=False.\n",
      "  if (yield from self.run_code(code, result)):\n"
     ]
    }
   ],
   "source": [
    "#ds_2015 = read_data('2015')\n",
    "ds_2016 = read_data('2016')"
   ]
  },
  {
   "cell_type": "code",
   "execution_count": 9,
   "metadata": {},
   "outputs": [],
   "source": [
    "n_2016 = ds_2016[['ANO', 'MES', 'RUBRICA', 'LATITUDE', 'LONGITUDE', 'CIDADE','LOGRADOURO']]\n",
    "#n_2016.head()"
   ]
  },
  {
   "cell_type": "code",
   "execution_count": null,
   "metadata": {},
   "outputs": [],
   "source": [
    "#n_2016.info()"
   ]
  },
  {
   "cell_type": "code",
   "execution_count": null,
   "metadata": {},
   "outputs": [],
   "source": [
    "#df = pd.DataFrame(dict(name=[\"São Paulo\", \"Santo André\"], lon=[-46.6388, -46.5322], lat=[-23.5489, -23.6666]))\n",
    "#df = pd.DataFrame(dict(lon=[-46.6388, -46.5322], lat=[-23.5489, -23.6666]))\n",
    "#df = pd.DataFrame(dict(lon=n_2016.head(100)['LONGITUDE'], lat=n_2016.head(100)['LATITUDE']))\n",
    "#wgs84_to_web_mercator(df)"
   ]
  },
  {
   "cell_type": "code",
   "execution_count": 10,
   "metadata": {},
   "outputs": [
    {
     "name": "stderr",
     "output_type": "stream",
     "text": [
      "/Users/thiagolima/anaconda3/lib/python3.6/site-packages/ipykernel_launcher.py:4: SettingWithCopyWarning: \n",
      "A value is trying to be set on a copy of a slice from a DataFrame.\n",
      "Try using .loc[row_indexer,col_indexer] = value instead\n",
      "\n",
      "See the caveats in the documentation: http://pandas.pydata.org/pandas-docs/stable/indexing.html#indexing-view-versus-copy\n",
      "  after removing the cwd from sys.path.\n",
      "/Users/thiagolima/anaconda3/lib/python3.6/site-packages/ipykernel_launcher.py:5: SettingWithCopyWarning: \n",
      "A value is trying to be set on a copy of a slice from a DataFrame.\n",
      "Try using .loc[row_indexer,col_indexer] = value instead\n",
      "\n",
      "See the caveats in the documentation: http://pandas.pydata.org/pandas-docs/stable/indexing.html#indexing-view-versus-copy\n",
      "  \"\"\"\n"
     ]
    }
   ],
   "source": [
    "#df = pd.DataFrame(dict(lon=n_2016.head(100)['LONGITUDE'], lat=n_2016.head(100)['LATITUDE']))\n",
    "df = n_2016.head(200)\n",
    "wgs84_to_web_mercator2(df)"
   ]
  },
  {
   "cell_type": "code",
   "execution_count": null,
   "metadata": {},
   "outputs": [],
   "source": [
    "#df.head()"
   ]
  },
  {
   "cell_type": "code",
   "execution_count": 11,
   "metadata": {},
   "outputs": [],
   "source": [
    "source = ColumnDataSource(df.head(200))"
   ]
  },
  {
   "cell_type": "code",
   "execution_count": null,
   "metadata": {},
   "outputs": [],
   "source": [
    "#source"
   ]
  },
  {
   "cell_type": "code",
   "execution_count": 12,
   "metadata": {},
   "outputs": [
    {
     "data": {
      "text/html": [
       "\n",
       "\n",
       "\n",
       "\n",
       "\n",
       "\n",
       "  <div class=\"bk-root\" id=\"7f71a940-b889-424e-846e-364d1766cf9a\" data-root-id=\"1082\"></div>\n"
      ]
     },
     "metadata": {},
     "output_type": "display_data"
    },
    {
     "data": {
      "application/javascript": [
       "(function(root) {\n",
       "  function embed_document(root) {\n",
       "    \n",
       "  var docs_json = {\"aab59581-24f3-49a1-ae88-715425028dd3\":{\"roots\":{\"references\":[{\"attributes\":{\"below\":[{\"id\":\"1091\",\"type\":\"MercatorAxis\"}],\"center\":[{\"id\":\"1099\",\"type\":\"Grid\"},{\"id\":\"1108\",\"type\":\"Grid\"}],\"left\":[{\"id\":\"1100\",\"type\":\"MercatorAxis\"}],\"plot_width\":960,\"renderers\":[{\"id\":\"1115\",\"type\":\"TileRenderer\"},{\"id\":\"1120\",\"type\":\"GlyphRenderer\"}],\"title\":{\"id\":\"1128\",\"type\":\"Title\"},\"toolbar\":{\"id\":\"1111\",\"type\":\"Toolbar\"},\"x_range\":{\"id\":\"1083\",\"type\":\"Range1d\"},\"x_scale\":{\"id\":\"1087\",\"type\":\"LinearScale\"},\"y_range\":{\"id\":\"1085\",\"type\":\"Range1d\"},\"y_scale\":{\"id\":\"1089\",\"type\":\"LinearScale\"}},\"id\":\"1082\",\"subtype\":\"Figure\",\"type\":\"Plot\"},{\"attributes\":{},\"id\":\"1087\",\"type\":\"LinearScale\"},{\"attributes\":{\"text\":\"\"},\"id\":\"1128\",\"type\":\"Title\"},{\"attributes\":{},\"id\":\"1089\",\"type\":\"LinearScale\"},{\"attributes\":{},\"id\":\"1134\",\"type\":\"UnionRenderers\"},{\"attributes\":{\"formatter\":{\"id\":\"1094\",\"type\":\"MercatorTickFormatter\"},\"ticker\":{\"id\":\"1092\",\"type\":\"MercatorTicker\"}},\"id\":\"1091\",\"type\":\"MercatorAxis\"},{\"attributes\":{},\"id\":\"1135\",\"type\":\"Selection\"},{\"attributes\":{\"dimension\":\"lon\"},\"id\":\"1092\",\"type\":\"MercatorTicker\"},{\"attributes\":{\"dimension\":\"lon\"},\"id\":\"1094\",\"type\":\"MercatorTickFormatter\"},{\"attributes\":{\"ticker\":{\"id\":\"1092\",\"type\":\"MercatorTicker\"}},\"id\":\"1099\",\"type\":\"Grid\"},{\"attributes\":{\"formatter\":{\"id\":\"1103\",\"type\":\"MercatorTickFormatter\"},\"ticker\":{\"id\":\"1101\",\"type\":\"MercatorTicker\"}},\"id\":\"1100\",\"type\":\"MercatorAxis\"},{\"attributes\":{\"fill_alpha\":{\"value\":0.5},\"fill_color\":{\"value\":\"Dodgerblue\"},\"line_color\":{\"value\":\"#1f77b4\"},\"size\":{\"units\":\"screen\",\"value\":10},\"x\":{\"field\":\"x\"},\"y\":{\"field\":\"y\"}},\"id\":\"1118\",\"type\":\"Circle\"},{\"attributes\":{\"dimension\":\"lat\"},\"id\":\"1101\",\"type\":\"MercatorTicker\"},{\"attributes\":{\"dimension\":\"lat\"},\"id\":\"1103\",\"type\":\"MercatorTickFormatter\"},{\"attributes\":{\"dimension\":1,\"ticker\":{\"id\":\"1101\",\"type\":\"MercatorTicker\"}},\"id\":\"1108\",\"type\":\"Grid\"},{\"attributes\":{\"active_drag\":\"auto\",\"active_inspect\":\"auto\",\"active_multi\":null,\"active_scroll\":\"auto\",\"active_tap\":\"auto\",\"tools\":[{\"id\":\"1109\",\"type\":\"PanTool\"},{\"id\":\"1110\",\"type\":\"WheelZoomTool\"}]},\"id\":\"1111\",\"type\":\"Toolbar\"},{\"attributes\":{},\"id\":\"1109\",\"type\":\"PanTool\"},{\"attributes\":{},\"id\":\"1110\",\"type\":\"WheelZoomTool\"},{\"attributes\":{\"callback\":null,\"data\":{\"ANO\":[2016,2016,2016,2016,2016,2016,2016,2016,2016,2016,2016,2016,2016,2016,2016,2016,2016,2016,2016,2016,2016,2016,2016,2016,2016,2016,2016,2016,2016,2016,2016,2016,2016,2016,2016,2016,2016,2016,2016,2016,2016,2016,2016,2016,2016,2016,2016,2016,2016,2016,2016,2016,2016,2016,2016,2016,2016,2016,2016,2016,2016,2016,2016,2016,2016,2016,2016,2016,2016,2016,2016,2016,2016,2016,2016,2016,2016,2016,2016,2016,2016,2016,2016,2016,2016,2016,2016,2016,2016,2016,2016,2016,2016,2016,2016,2016,2016,2016,2016,2016,2016,2016,2016,2016,2016,2016,2016,2016,2016,2016,2016,2016,2016,2016,2016,2016,2016,2016,2016,2016,2016,2016,2016,2016,2016,2016,2016,2016,2016,2016,2016,2016,2016,2016,2016,2016,2016,2016,2016,2016,2016,2016,2016,2016,2016,2016,2016,2016,2016,2016,2016,2016,2016,2016,2016,2016,2016,2016,2016,2016,2016,2016,2016,2016,2016,2016,2016,2016,2016,2016,2016,2016,2016,2016,2016,2016,2016,2016,2016,2016,2016,2016,2016,2016,2016,2016,2016,2016,2016,2016,2016,2016,2016,2016,2016,2016,2016,2016,2016,2016],\"CIDADE\":[\"S.PAULO                                 \",\"S.PAULO                                 \",\"S.PAULO                                 \",\"S.PAULO                                 \",\"S.PAULO                                 \",\"S.PAULO                                 \",\"OSASCO                                  \",\"S.PAULO                                 \",\"S.PAULO                                 \",\"S.PAULO                                 \",\"S.PAULO                                 \",\"S.BERNARDO DO CAMPO                     \",\"S.PAULO                                 \",\"S.PAULO                                 \",\"DIADEMA                                 \",\"MAUA                                    \",\"S.PAULO                                 \",\"S.PAULO                                 \",\"S.PAULO                                 \",\"S.PAULO                                 \",\"S.PAULO                                 \",\"S.PAULO                                 \",\"S.PAULO                                 \",\"S.PAULO                                 \",\"S.ANDRE                                 \",\"S.PAULO                                 \",\"S.CAETANO DO SUL                        \",\"S.PAULO                                 \",\"S.ANDRE                                 \",\"OSASCO                                  \",\"CARAPICUIBA                             \",\"S.PAULO                                 \",\"S.BERNARDO DO CAMPO                     \",\"S.ANDRE                                 \",\"S.PAULO                                 \",\"S.PAULO                                 \",\"S.PAULO                                 \",\"S.PAULO                                 \",\"S.PAULO                                 \",\"S.PAULO                                 \",\"S.PAULO                                 \",\"S.PAULO                                 \",\"S.PAULO                                 \",\"S.PAULO                                 \",\"S.PAULO                                 \",\"S.PAULO                                 \",\"S.BERNARDO DO CAMPO                     \",\"S.PAULO                                 \",\"OSASCO                                  \",\"S.PAULO                                 \",\"TABOAO DA SERRA                         \",\"S.PAULO                                 \",\"ITAQUAQUECETUBA                         \",\"S.PAULO                                 \",\"S.PAULO                                 \",\"S.PAULO                                 \",\"S.PAULO                                 \",\"S.PAULO                                 \",\"S.PAULO                                 \",\"S.PAULO                                 \",\"S.PAULO                                 \",\"S.PAULO                                 \",\"EMBU DAS ARTES                          \",\"ITAPEVI                                 \",\"S.PAULO                                 \",\"ARUJA                                   \",\"S.PAULO                                 \",\"GUARULHOS                               \",\"S.PAULO                                 \",\"S.PAULO                                 \",\"GUARULHOS                               \",\"TABOAO DA SERRA                         \",\"S.PAULO                                 \",\"S.PAULO                                 \",\"S.PAULO                                 \",\"S.PAULO                                 \",\"S.PAULO                                 \",\"S.PAULO                                 \",\"S.PAULO                                 \",\"S.PAULO                                 \",\"S.PAULO                                 \",\"S.BERNARDO DO CAMPO                     \",\"S.PAULO                                 \",\"OSASCO                                  \",\"FRANCISCO MORATO                        \",\"SUZANO                                  \",\"S.PAULO                                 \",\"S.PAULO                                 \",\"S.PAULO                                 \",\"MOGI DAS CRUZES                         \",\"S.PAULO                                 \",\"CARAPICUIBA                             \",\"S.PAULO                                 \",\"S.PAULO                                 \",\"S.PAULO                                 \",\"S.PAULO                                 \",\"S.PAULO                                 \",\"S.ANDRE                                 \",\"S.CAETANO DO SUL                        \",\"DIADEMA                                 \",\"DIADEMA                                 \",\"GUARULHOS                               \",\"ITAQUAQUECETUBA                         \",\"S.PAULO                                 \",\"S.PAULO                                 \",\"S.PAULO                                 \",\"GUARULHOS                               \",\"S.PAULO                                 \",\"S.PAULO                                 \",\"S.PAULO                                 \",\"ITAPEVI                                 \",\"S.PAULO                                 \",\"DIADEMA                                 \",\"MAUA                                    \",\"MAIRIPORA                               \",\"GUARULHOS                               \",\"GUARULHOS                               \",\"S.PAULO                                 \",\"S.PAULO                                 \",\"S.PAULO                                 \",\"S.PAULO                                 \",\"S.PAULO                                 \",\"S.PAULO                                 \",\"S.BERNARDO DO CAMPO                     \",\"S.PAULO                                 \",\"EMBU DAS ARTES                          \",\"S.CAETANO DO SUL                        \",\"S.PAULO                                 \",\"MOGI DAS CRUZES                         \",\"MOGI DAS CRUZES                         \",\"S.PAULO                                 \",\"S.PAULO                                 \",\"S.BERNARDO DO CAMPO                     \",\"S.PAULO                                 \",\"S.BERNARDO DO CAMPO                     \",\"S.PAULO                                 \",\"S.PAULO                                 \",\"GUARULHOS                               \",\"S.PAULO                                 \",\"S.PAULO                                 \",\"S.PAULO                                 \",\"S.PAULO                                 \",\"S.PAULO                                 \",\"S.PAULO                                 \",\"S.PAULO                                 \",\"S.PAULO                                 \",\"S.PAULO                                 \",\"S.PAULO                                 \",\"VARGEM GRANDE PAULISTA                  \",\"S.PAULO                                 \",\"OSASCO                                  \",\"S.BERNARDO DO CAMPO                     \",\"S.PAULO                                 \",\"S.PAULO                                 \",\"S.PAULO                                 \",\"S.PAULO                                 \",\"BARUERI                                 \",\"FRANCISCO MORATO                        \",\"S.PAULO                                 \",\"S.PAULO                                 \",\"S.PAULO                                 \",\"S.ANDRE                                 \",\"S.PAULO                                 \",\"S.PAULO                                 \",\"S.PAULO                                 \",\"ARUJA                                   \",\"S.ANDRE                                 \",\"DIADEMA                                 \",\"S.PAULO                                 \",\"S.PAULO                                 \",\"S.PAULO                                 \",\"S.ANDRE                                 \",\"MAUA                                    \",\"MAUA                                    \",\"S.PAULO                                 \",\"MAUA                                    \",\"S.PAULO                                 \",\"S.PAULO                                 \",\"MAUA                                    \",\"S.PAULO                                 \",\"S.PAULO                                 \",\"S.PAULO                                 \",\"S.PAULO                                 \",\"S.PAULO                                 \",\"S.PAULO                                 \",\"S.PAULO                                 \",\"GUARULHOS                               \",\"S.PAULO                                 \",\"DIADEMA                                 \",\"S.PAULO                                 \",\"S.PAULO                                 \",\"GUARULHOS                               \",\"S.PAULO                                 \",\"S.PAULO                                 \",\"OSASCO                                  \",\"S.PAULO                                 \",\"S.PAULO                                 \",\"S.PAULO                                 \",\"S.PAULO                                 \",\"S.PAULO                                 \"],\"LATITUDE\":{\"__ndarray__\":\"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\",\"dtype\":\"float64\",\"shape\":[200]},\"LOGRADOURO\":[\"AVENIDA PAULISTA                        \",\"PRA\\u00c7A DA REPUBLICA                      \",\"RUA CONSELHEIRO NEBIAS                  \",\"RUA MADUREIRA CALHEIROS                 \",\"RUA ROBERTSON                           \",\"RUA PIRES DA MOTA                       \",\"RUA DON\\u00c1 PRIMITIVA VIANCO               \",\"AVENIDA CRUZEIRO DO SUL                 \",\"AVENIDA PADRE ARLINDO VIEIRA            \",\"RUA CONCEICAO DA BREJAUBA               \",\"RUA ITAPIRU                             \",\"RUA VALDOMIRO LU\\u00cdS                      \",\"RUA VINTE E CINCO DE MARCO              \",\"RUA PIRES DO RIO                        \",\"RUA ARMANDO PINELI                      \",\"RUA MIGUEL GALINDO NAVARRO              \",\"AVENIDA ENGENHEIRO LUIZ CARLOS BERRINI  \",\"RUA MARIO CHERMONT                      \",\"ESTA\\u00c7\\u00c3O METRO ANHANGABA\\u00da                \",\"RUA DO AROUCHE                          \",\"RUA DA ALFANDEGA                        \",\"RUA GENERAL CARNEIRO                    \",\"RUA LINO GUEDES                         \",\"RUA DO GRITO                            \",\"RUA AVINHAO                             \",\"ESTA\\u00c7\\u00c3O METRO S\\u00c3O BENTO                 \",\"RUA SENADOR VERGUEIRO                   \",\"leopoldo augusto miguez                 \",\"RUA ANTUNES BRAGA                       \",\"RUA LEONOR MARIA DA SILVA               \",\"RUA G\\u00c1LIA                               \",\"AVENIDA JO\\u00c3O XXIII                      \",\"RUA JO\\u00c3O PESSOA                         \",\"RUA MARIA ORTIZ                         \",\"RUA BARTOLOMEU RIBEIRA                  \",\"RUA AMBROSIO DALZA                      \",\"RUA DO GLICERIO                         \",\"PRA\\u00c7A DA REPUBLICA                      \",\"RUA SILVIO PENTEADO                     \",\"RUA JAVARI                              \",\"RUA LABATUT                             \",\"AVENIDA ALCANTARA MACHADO               \",\"RUA VISCONDE DE PARNAIBA                \",\"avenida faria lima                      \",\"RUA ALFREDO DA CRUZ                     \",\"RUA JANUARIO DA CUNHA BARBOSA           \",\"Rodovia Caminho do Mar                  \",\"RUA ABURA                               \",\"AVENIDA BRASIL                          \",\"RUA JOAO DE ALMADA                      \",\"ACESSO RODOVIA R\\u00c9GIS BITENCOURT         \",\"RUA BERNARDINO FANGANIELLO              \",\"RUA ASSIS CHATEAUBRIAND                 \",\"AVENIDA PRESIDENTE WILSON               \",\"LADEIRA PORTO GERAL                     \",\"AVENIDA RIO BRANCO                      \",\"PARQUE ANHANGABAU                       \",\"AVENIDA VAUTHIER                        \",\"RUA MOACIR TAVARES DE PAIVA             \",\"AVENIDA JABAQUARA                       \",\"RUA ENG. MESQUITA SAMPAIO               \",\"AVENIDA PAULISTA                        \",\"RUA DOS NARCISOS                        \",\"RUA Paulo Jos\\u00e9 Fernandes                \",\"RUA PADRE ANTAO JORGE                   \",\"RUA MARANH\\u00c3O                            \",\"ALAMEDA DOS MARACATINS                  \",\"ALAMEDA YAY\\u00c1                            \",\"RUA JAVAES                              \",\"ESTRADA TURISTICA DO JARAGUA            \",\"AVENIDA SERRA BRANCA                    \",\"RUA GON\\u00c7ALVES DIAS                      \",\"AVENIDA DA LIBERDADE                    \",\"AVENIDA SENADOR QUEIROS                 \",\"AVENIDA NOVE DE JULHO                   \",\"RUA BARAO DO RIO BRANCO                 \",\"RUA ANDREA APPIANI                      \",\"RUA BARAO DE JUNDIAI                    \",\"AVENIDA BRIGADEIRO LUIS ANTONIO         \",\"estrada velha de itaquera               \",\"AVENIDA JOSE RODRIGUES SANTAREM         \",\"Avenida Senador Vergueiro               \",\"RUA CORONEL MEIRELES                    \",\"VIELA GERALDO BEZERRA                   \",\"RUA PEDRO VAZ DE CAMINHA                \",\"RUA EXPEDICION\\u00c1RIO CABO KATSUO MIYAZATO \",\"RUA JOSE FILIPE DA SILVA                \",\"RUA JOAQUIM ANTUNES                     \",\"RUA SANSAO ALVES DOS SANTOS             \",\"AVENIDA FRANCISCO FERREIRA LOPES        \",\"RUA RAMON PENHARRUBIA                   \",\"VIELA ORION                             \",\"PRA\\u00c7A ROBERTO GOMES PEDROSA             \",\"AVENIDA NOVA CANTAREIRA                 \",\"RUA PIUVA                               \",\"RUA TIETE                               \",\"AVENIDA PIRES DO RIO                    \",\"RUA SENADOR PAULO GUERRA                \",\"BOULEVARD SAO CAETANO                   \",\"RUA ALTAIR                              \",\"AVENIDA DOM JO\\u00c3O VI                     \",\"AVENIDA OT\\u00c1VIO BRAGA DE MESQUITA        \",\"RUA CAPIT\\u00c3O JOS\\u00c9 LEITE                  \",\"AVENIDA DEZENOVE DE JANEIRO             \",\"RUA RODRIGUES DE MEDEIROS               \",\"AVENIDA DOUTOR GENTIL DE MOURA          \",\"RUA CACHOEIRA                           \",\"RUA PORANGATU                           \",\"RUA ANTONIO DANIN                       \",\"AVENIDA JACOBUS BALDI                   \",\"AVENIDA JOS\\u00c9 CHALUPE                    \",\"RUA SURUCUAS                            \",\"RUA G\\u00c1SPAR RICARDO                      \",\"RUA GERBER WOLFGANG                     \",\"ESTRADA LARAMARA                        \",\"RUA FEL\\u00cdCIO MARCONDES                   \",\"RUA QUELUZ                              \",\"TERMINAL SAO MATEUS                     \",\"RUA IRMAOS MURGEL                       \",\"RUA LOURENCO DE MIRANDA                 \",\"RUA VITORIA                             \",\"RUA GERALDO CUBAS                       \",\"RUA IGUACABA                            \",\"PRA\\u00c7A SAMUEL SABATINE                   \",\"AVENIDA PAULISTA                        \",\"RUA CERQUEIRA C\\u00c9SAR                     \",\"ALAMEDA CASSAQUERA                      \",\"RUA ANA ESSIPOVA                        \",\"ESTRADA NAGAO                           \",\"RUA ITAQUAQUECETUBA                     \",\"AVENIDA SAPOPEMBA                       \",\"AVENIDA CRUZEIRO DO SUL                 \",\"PRA\\u00c7A GEOVANE BR\\u00caDA                     \",\"AVENIDA PAULISTA                        \",\"RUA DOS VIANAS                          \",\"AVENIDA JORNALISTA ROBERTO MARINHO      \",\"estrada da logacao                      \",\"RUA ITAGUA\\u00cd                             \",\"RUA RUBENS MEIRELES                     \",\"RUA LISA ANSORGE                        \",\"RUA FORMOSA                             \",\"RUA GILBERTO SABINO                     \",\"RUA ANITA GARIBALDI                     \",\"RODOVIA RODOANEL TRECHO SUL             \",\"AVENIDA MIGUEL FRIAS E VASCONCELOS      \",\"RUA JACOFER                             \",\"rua:carlos marques teixeira             \",\"TRAVESSA QUILARAIBA                     \",\"RUA JO\\u00c3O CORREIRA DOS SANTOS            \",\"ESTRADA DE ITAPECERICA                  \",\"RUA ANT\\u00d4NIO AG\\u00da                         \",\"AVENIDA BRIGADEIRO FARIA LIMA           \",\"RUA RIBEIRAO DOS ARCOS                  \",\"RUA IGARATA                             \",\"RUA MANGALO                             \",\"RUA PAISAGEM NOTURNA                    \",\"RUA ANT\\u00d4NIO CHALUPE                     \",\"RUA VIRG\\u00cdLIO MARTINS DE OLIVEIRA        \",\"RUA TUPA                                \",\"RUA LOBATO                              \",\"RUA AGUA RASA                           \",\"ESTA\\u00c7\\u00c3O TREM SANTO ANDRE                \",\"RUA CESARIO DOS SANTOS                  \",\"RUA AUGUSTO PIACENTINI                  \",\"RUA DOUTOR CRISTINIANO ALTENFELDER SILVA\",\"RUA WALDOMIRO LUIZ COUTINHO             \",\"RUA ADOLFO BASTOS                       \",\"RUA ATA\\u00daLFO ALVES                       \",\"AVENIDA MINISTRO LAUDO FERREIRA DE CAMAR\",\"AVENIDA MARGINAL DO RIO PINHEIROS       \",\"R. AM\\u00c9RICO SAMARONE                     \",\"RUA CISTERCENSE                         \",\"RUA SANTA CLARA                         \",\"RUA RIO BRANCO                          \",\"RUA PEDRO DE TOLEDO                     \",\"RUA BARTOLOMEU DE GUSM\\u00c3O                \",\"RUA MARIA ANTONIA                       \",\"RUA ALFREDO LORENZ                      \",\"RUA MANOEL DA N\\u00d3BREGA                   \",\"Avenida Marques de S\\u00e3o Vicente          \",\"AVENIDA CORONEL SEZEFREDO FAGUNDES      \",\"RUA GUAICURUS                           \",\"AVENIDA GENERAL EDGAR FACO              \",\"RUA LUIZ RUBINO                         \",\"RUA JOAO AMADO COUTINHO                 \",\"AVENIDA MARECHAL TITO                   \",\"AVENIDA PAULO FACINI                    \",\"AVENIDA DA LIBERDADE                    \",\"RUA S\\u00c3O LEOPOLDO                        \",\"AVENIDA BRIGADEIRO FARIA LIMA           \",\"AVENIDA JOAO MARIA DE ALMEIDA           \",\"AVENIDA SALGADO FILHO                   \",\"RUA CATATEUS                            \",\"TRAVESSA WALTER DE ALMEIDA              \",\"AVENIDA MARECHAL RONDON                 \",\"RUA AIMBERE                             \",\"RUA BRENO CAVALHAES                     \",\"ESTRADA DE ITAPECERICA                  \",\"RUA VITORIO AZZALIN                     \",\"AVENIDA CELSO GARCIA                    \"],\"LONGITUDE\":{\"__ndarray__\":\"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\",\"dtype\":\"float64\",\"shape\":[200]},\"MES\":[7,5,10,3,12,11,12,3,4,5,7,9,10,7,1,11,11,2,2,4,9,6,11,3,8,9,9,12,2,9,9,2,8,6,7,12,12,1,2,10,8,9,10,11,12,10,1,12,5,4,6,6,4,4,9,9,5,12,3,12,11,12,11,5,4,5,10,11,7,11,8,4,2,8,5,2,11,7,4,7,6,9,9,9,11,11,3,12,1,3,2,3,2,3,4,6,6,5,5,7,2,7,7,8,12,10,12,5,6,7,11,11,11,4,7,11,8,4,4,8,2,5,3,5,11,12,10,12,8,3,6,3,4,5,9,9,1,3,4,4,2,6,10,4,8,11,1,1,12,6,6,7,2,4,6,3,11,8,6,6,10,11,1,7,10,4,6,8,7,7,10,7,7,6,10,1,3,4,7,8,1,7,4,1,8,10,11,3,1,2,4,7,7,10,3,5,1,7,8,6],\"RUBRICA\":[\"Furto (art. 155)\",\"Roubo (art. 157)\",\"Drogas sem autoriza\\u00e7\\u00e3o ou em desacordo (Art.33, caput)\",\"Roubo (art. 157)\",\"Les\\u00e3o corporal (art. 129)\",\"Furto (art. 155)\",\"Roubo (art. 157)\",\"Furto (art. 155)\",\"Roubo (art. 157)\",\"Roubo (art. 157)\",\"Roubo (art. 157)\",\"Roubo (art. 157)\",\"Furto (art. 155)\",\"Roubo (art. 157)\",\"Furto (art. 155)\",\"Furto (art. 155)\",\"Roubo (art. 157)\",\"Roubo (art. 157)\",\"Furto (art. 155)\",\"Roubo (art. 157)\",\"Furto qualificado (art. 155, \\u00a74o.)\",\"Furto qualificado (art. 155, \\u00a74o.)\",\"Roubo (art. 157)\",\"Furto (art. 155)\",\"Furto (art. 155)\",\"Furto (art. 155)\",\"Furto (art. 155)\",\"Furto (art. 155)\",\"Roubo (art. 157)\",\"Furto (art. 155)\",\"Furto (art. 155)\",\"Furto qualificado (art. 155, \\u00a74o.)\",\"Furto (art. 155)\",\"Furto (art. 155)\",\"Furto (art. 155)\",\"Roubo (art. 157)\",\"Furto (art. 155)\",\"Furto (art. 155)\",\"Furto qualificado (art. 155, \\u00a74o.)\",\"Furto (art. 155)\",\"Les\\u00e3o corporal (art. 129)\",\"Les\\u00e3o corporal culposa na dire\\u00e7\\u00e3o de ve\\u00edculo automotor (Art. 303)\",\"Furto (art. 155)\",\"Roubo (art. 157)\",\"Furto (art. 155)\",\"Furto (art. 155)\",\"Furto (art. 155)\",\"Roubo (art. 157)\",\"Furto (art. 155)\",\"Furto (art. 155)\",\"Roubo (art. 157)\",\"Roubo (art. 157)\",\"Roubo (art. 157)\",\"Furto (art. 155)\",\"Roubo (art. 157)\",\"Roubo (art. 157)\",\"Drogas sem autoriza\\u00e7\\u00e3o ou em desacordo (Art.33, caput)\",\"Furto (art. 155)\",\"Furto qualificado (art. 155, \\u00a74o.)\",\"Furto (art. 155)\",\"Roubo (art. 157)\",\"Furto (art. 155)\",\"Roubo (art. 157)\",\"Roubo (art. 157)\",\"Roubo (art. 157)\",\"Roubo (art. 157)\",\"Furto (art. 155)\",\"Roubo (art. 157)\",\"Roubo (art. 157)\",\"Roubo (art. 157)\",\"Roubo (art. 157)\",\"Furto (art. 155)\",\"Roubo (art. 157)\",\"Roubo (art. 157)\",\"Furto (art. 155)\",\"Roubo (art. 157)\",\"Furto qualificado (art. 155, \\u00a74o.)\",\"Furto qualificado (art. 155, \\u00a74o.)\",\"Furto (art. 155)\",\"Roubo (art. 157)\",\"Furto (art. 155)\",\"Furto (art. 155)\",\"Furto (art. 155)\",\"Furto (art. 155)\",\"Roubo (art. 157)\",\"Furto (art. 155)\",\"Roubo (art. 157)\",\"Furto (art. 155)\",\"Furto (art. 155)\",\"Furto (art. 155)\",\"Furto (art. 155)\",\"Les\\u00e3o corporal (art 129 \\u00a7 9\\u00ba)\",\"Roubo (art. 157)\",\"Furto (art. 155)\",\"Roubo (art. 157)\",\"Roubo (art. 157)\",\"Roubo (art. 157)\",\"Roubo (art. 157)\",\"Roubo (art. 157)\",\"Roubo (art. 157)\",\"Les\\u00e3o corporal (art 129 \\u00a7 9\\u00ba)\",\"Roubo (art. 157)\",\"Furto (art. 155)\",\"Roubo (art. 157)\",\"Roubo (art. 157)\",\"Furto (art. 155)\",\"Roubo (art. 157)\",\"Furto (art. 155)\",\"Roubo (art. 157)\",\"Roubo (art. 157)\",\"Les\\u00e3o corporal (art. 129)\",\"Roubo (art. 157)\",\"Roubo (art. 157)\",\"Furto (art. 155)\",\"Roubo (art. 157)\",\"Furto qualificado (art. 155, \\u00a74o.)\",\"Furto qualificado (art. 155, \\u00a74o.)\",\"Furto (art. 155)\",\"Furto (art. 155)\",\"Roubo (art. 157)\",\"Les\\u00e3o corporal (art. 129)\",\"Les\\u00e3o corporal (art. 129)\",\"Les\\u00e3o corporal (art 129 \\u00a7 9\\u00ba)\",\"Roubo (art. 157)\",\"Furto (art. 155)\",\"Furto (art. 155)\",\"Roubo (art. 157)\",\"Roubo (art. 157)\",\"Furto (art. 155)\",\"Furto (art. 155)\",\"Roubo (art. 157)\",\"Furto (art. 155)\",\"Roubo (art. 157)\",\"Furto (art. 155)\",\"Roubo (art. 157)\",\"Furto (art. 155)\",\"Roubo (art. 157)\",\"Roubo (art. 157)\",\"Furto (art. 155)\",\"Furto (art. 155)\",\"Furto (art. 155)\",\"Furto (art. 155)\",\"Furto (art. 155)\",\"Furto (art. 155)\",\"Roubo (art. 157)\",\"Furto (art. 155)\",\"Roubo (art. 157)\",\"Roubo (art. 157)\",\"Les\\u00e3o corporal culposa na dire\\u00e7\\u00e3o de ve\\u00edculo automotor (Art. 303)\",\"Furto (art. 155)\",\"Furto (art. 155)\",\"Furto (art. 155)\",\"Roubo (art. 157)\",\"Furto (art. 155)\",\"Furto (art. 155)\",\"Furto qualificado (art. 155, \\u00a74o.)\",\"Furto qualificado (art. 155, \\u00a74o.)\",\"Furto (art. 155)\",\"Furto (art. 155)\",\"Roubo (art. 157)\",\"Roubo (art. 157)\",\"Furto (art. 155)\",\"Roubo (art. 157)\",\"Furto qualificado (art. 155, \\u00a74o.)\",\"Roubo (art. 157)\",\"A.I.-Les\\u00e3o corporal (art. 129)\",\"Roubo (art. 157)\",\"Furto qualificado (art. 155, \\u00a74o.)\",\"Furto (art. 155)\",\"Furto (art. 155)\",\"Furto (art. 155)\",\"Furto (art. 155)\",\"Furto (art. 155)\",\"Furto qualificado (art. 155, \\u00a74o.)\",\"Furto (art. 155)\",\"Furto (art. 155)\",\"Furto (art. 155)\",\"Roubo (art. 157)\",\"Furto (art. 155)\",\"Furto (art. 155)\",\"Roubo (art. 157)\",\"Furto (art. 155)\",\"Furto qualificado (art. 155, \\u00a74o.)\",\"Les\\u00e3o corporal (art. 129)\",\"Roubo (art. 157)\",\"Furto (art. 155)\",\"Roubo (art. 157)\",\"Furto (art. 155)\",\"Furto (art. 155)\",\"Furto (art. 155)\",\"Furto (art. 155)\",\"Furto (art. 155)\",\"Roubo (art. 157)\",\"Furto (art. 155)\",\"Roubo (art. 157)\",\"Furto (art. 155)\",\"Roubo (art. 157)\",\"Furto (art. 155)\",\"Roubo (art. 157)\",\"A.I.-Roubo (art. 157)\"],\"index\":[0,1,2,3,4,5,6,7,8,9,10,11,12,13,14,15,16,17,18,19,20,21,22,23,24,25,26,27,28,29,30,31,32,33,34,35,36,37,38,39,40,41,42,43,44,45,46,47,48,49,50,51,52,53,54,55,56,57,58,59,60,61,62,63,64,65,66,67,68,69,70,71,72,73,74,75,76,77,78,79,80,81,82,83,84,85,86,87,88,89,90,91,92,93,94,95,96,97,98,99,100,101,102,103,104,105,106,107,108,109,110,111,112,113,114,115,116,117,118,119,120,121,122,123,124,125,126,127,128,129,130,131,132,133,134,135,136,137,138,139,140,141,142,143,144,145,146,147,148,149,150,151,152,153,154,155,156,157,158,159,160,161,162,163,164,165,166,167,168,169,170,171,172,173,174,175,176,177,178,179,180,181,182,183,184,185,186,187,188,189,190,191,192,193,194,195,196,197,198,199],\"x\":{\"__ndarray__\":\"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\",\"dtype\":\"float64\",\"shape\":[200]},\"y\":{\"__ndarray__\":\"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\",\"dtype\":\"float64\",\"shape\":[200]}},\"selected\":{\"id\":\"1135\",\"type\":\"Selection\"},\"selection_policy\":{\"id\":\"1134\",\"type\":\"UnionRenderers\"}},\"id\":\"1081\",\"type\":\"ColumnDataSource\"},{\"attributes\":{\"attribution\":\"Mapa da cidade de S\\u00e3o Paulo\",\"url\":\"http://a.basemaps.cartocdn.com/rastertiles/dark_all/{Z}/{X}/{Y}.png\"},\"id\":\"1114\",\"type\":\"WMTSTileSource\"},{\"attributes\":{\"tile_source\":{\"id\":\"1114\",\"type\":\"WMTSTileSource\"}},\"id\":\"1115\",\"type\":\"TileRenderer\"},{\"attributes\":{\"fill_alpha\":{\"value\":0.1},\"fill_color\":{\"value\":\"#1f77b4\"},\"line_alpha\":{\"value\":0.1},\"line_color\":{\"value\":\"#1f77b4\"},\"size\":{\"units\":\"screen\",\"value\":10},\"x\":{\"field\":\"x\"},\"y\":{\"field\":\"y\"}},\"id\":\"1119\",\"type\":\"Circle\"},{\"attributes\":{\"callback\":null,\"end\":-5135550,\"start\":-5247500},\"id\":\"1083\",\"type\":\"Range1d\"},{\"attributes\":{\"data_source\":{\"id\":\"1081\",\"type\":\"ColumnDataSource\"},\"glyph\":{\"id\":\"1118\",\"type\":\"Circle\"},\"hover_glyph\":null,\"muted_glyph\":null,\"nonselection_glyph\":{\"id\":\"1119\",\"type\":\"Circle\"},\"selection_glyph\":null,\"view\":{\"id\":\"1121\",\"type\":\"CDSView\"}},\"id\":\"1120\",\"type\":\"GlyphRenderer\"},{\"attributes\":{\"callback\":null,\"end\":-5123549,\"start\":-289990},\"id\":\"1085\",\"type\":\"Range1d\"},{\"attributes\":{\"source\":{\"id\":\"1081\",\"type\":\"ColumnDataSource\"}},\"id\":\"1121\",\"type\":\"CDSView\"}],\"root_ids\":[\"1082\"]},\"title\":\"Bokeh Application\",\"version\":\"1.2.0\"}};\n",
       "  var render_items = [{\"docid\":\"aab59581-24f3-49a1-ae88-715425028dd3\",\"roots\":{\"1082\":\"7f71a940-b889-424e-846e-364d1766cf9a\"}}];\n",
       "  root.Bokeh.embed.embed_items_notebook(docs_json, render_items);\n",
       "\n",
       "  }\n",
       "  if (root.Bokeh !== undefined) {\n",
       "    embed_document(root);\n",
       "  } else {\n",
       "    var attempts = 0;\n",
       "    var timer = setInterval(function(root) {\n",
       "      if (root.Bokeh !== undefined) {\n",
       "        embed_document(root);\n",
       "        clearInterval(timer);\n",
       "      }\n",
       "      attempts++;\n",
       "      if (attempts > 100) {\n",
       "        console.log(\"Bokeh: ERROR: Unable to run BokehJS code because BokehJS library is missing\");\n",
       "        clearInterval(timer);\n",
       "      }\n",
       "    }, 10, root)\n",
       "  }\n",
       "})(window);"
      ],
      "application/vnd.bokehjs_exec.v0+json": ""
     },
     "metadata": {
      "application/vnd.bokehjs_exec.v0+json": {
       "id": "1082"
      }
     },
     "output_type": "display_data"
    }
   ],
   "source": [
    "p = figure(tools='pan, wheel_zoom', x_range=x_range, y_range=y_range, \n",
    "           x_axis_type=\"mercator\", y_axis_type=\"mercator\", plot_width=960)\n",
    "\n",
    "p.add_tile(WMTSTileSource(url=url, attribution=attribution))\n",
    "\n",
    "#p.circle(x=df['x'], y=df['y'], fill_color='Dodgerblue', size=10, fill_alpha=0.9)\n",
    "p.circle('x','y', fill_color='Dodgerblue', size=10, fill_alpha=0.5, source=source)\n",
    "\n",
    "show(p)"
   ]
  },
  {
   "cell_type": "code",
   "execution_count": null,
   "metadata": {},
   "outputs": [],
   "source": []
  }
 ],
 "metadata": {
  "kernelspec": {
   "display_name": "Python 3",
   "language": "python",
   "name": "python3"
  },
  "language_info": {
   "codemirror_mode": {
    "name": "ipython",
    "version": 3
   },
   "file_extension": ".py",
   "mimetype": "text/x-python",
   "name": "python",
   "nbconvert_exporter": "python",
   "pygments_lexer": "ipython3",
   "version": "3.6.8"
  }
 },
 "nbformat": 4,
 "nbformat_minor": 2
}
